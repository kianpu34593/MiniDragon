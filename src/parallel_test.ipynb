{
  "nbformat": 4,
  "nbformat_minor": 0,
  "metadata": {
    "colab": {
      "name": "parallel_test.ipynb",
      "provenance": [],
      "authorship_tag": "ABX9TyP+DgRj+2e9jM4x+DMptCFD",
      "include_colab_link": true
    },
    "kernelspec": {
      "name": "python3",
      "display_name": "Python 3"
    }
  },
  "cells": [
    {
      "cell_type": "markdown",
      "metadata": {
        "id": "view-in-github",
        "colab_type": "text"
      },
      "source": [
        "<a href=\"https://colab.research.google.com/github/kianpu34593/NotSoFastMD/blob/kian_parallel_attempt_1/src/parallel_test.ipynb\" target=\"_parent\"><img src=\"https://colab.research.google.com/assets/colab-badge.svg\" alt=\"Open In Colab\"/></a>"
      ]
    },
    {
      "cell_type": "code",
      "metadata": {
        "colab": {
          "resources": {
            "http://localhost:8080/nbextensions/google.colab/files.js": {
              "data": "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",
              "ok": true,
              "headers": [
                [
                  "content-type",
                  "application/javascript"
                ]
              ],
              "status": 200,
              "status_text": ""
            }
          },
          "base_uri": "https://localhost:8080/",
          "height": 72
        },
        "id": "SxlfodDCQDak",
        "outputId": "e31f9913-d86e-40c7-e159-5b1e25a40303"
      },
      "source": [
        "import numpy as np\n",
        "from random import sample\n",
        "import numba\n",
        "import copy\n",
        "import time\n",
        "import matplotlib.pyplot as plt\n",
        "from tqdm.notebook import tqdm\n",
        "plt.rcParams['figure.figsize'] = [8.0, 6.0]\n",
        "#if using google colab\n",
        "from google.colab import files\n",
        "uploaded = files.upload() "
      ],
      "execution_count": 1,
      "outputs": [
        {
          "output_type": "display_data",
          "data": {
            "text/html": [
              "\n",
              "     <input type=\"file\" id=\"files-ea823af6-4a83-4a3a-8966-8ba5cbba13b0\" name=\"files[]\" multiple disabled\n",
              "        style=\"border:none\" />\n",
              "     <output id=\"result-ea823af6-4a83-4a3a-8966-8ba5cbba13b0\">\n",
              "      Upload widget is only available when the cell has been executed in the\n",
              "      current browser session. Please rerun this cell to enable.\n",
              "      </output>\n",
              "      <script src=\"/nbextensions/google.colab/files.js\"></script> "
            ],
            "text/plain": [
              "<IPython.core.display.HTML object>"
            ]
          },
          "metadata": {
            "tags": []
          }
        },
        {
          "output_type": "stream",
          "text": [
            "Saving liquid256.txt to liquid256.txt\n"
          ],
          "name": "stdout"
        }
      ]
    },
    {
      "cell_type": "code",
      "metadata": {
        "colab": {
          "base_uri": "https://localhost:8080/"
        },
        "id": "3m4D2cmJRWDe",
        "outputId": "5aec8cdd-c8ed-4777-c741-f50af6a107a7"
      },
      "source": [
        "from google.colab import drive\n",
        "drive.mount('/content/drive')"
      ],
      "execution_count": 4,
      "outputs": [
        {
          "output_type": "stream",
          "text": [
            "Mounted at /content/drive\n"
          ],
          "name": "stdout"
        }
      ]
    },
    {
      "cell_type": "code",
      "metadata": {
        "colab": {
          "base_uri": "https://localhost:8080/"
        },
        "id": "ogTWskTuQH7R",
        "outputId": "bfd33c8f-d8de-4408-9db7-16fbdc210018"
      },
      "source": [
        "%%writefile velocity_generator.py\n",
        "import numpy as np\n",
        "from random import sample\n",
        "import numba\n",
        "#Randomlly Initialize the Velocities\n",
        "@numba.njit\n",
        "def random_vel_generator(n=256,T_equal=100,m=1,e_scale=1): # n=number of particles\n",
        "    total_k=3*T_equal*(n-1)/2 #dimensionless\n",
        "    vel_per_particle=np.zeros((n,3))\n",
        "    for axis in range(3):\n",
        "        vel_per_particle[:,axis]=np.random.randn(256,)-0.5\n",
        "    Mom_x_total=np.sum(vel_per_particle[:,0])\n",
        "    Mom_y_total=np.sum(vel_per_particle[:,1])\n",
        "    Mom_z_total=np.sum(vel_per_particle[:,2])\n",
        "    Mom_x_avg=Mom_x_total/n\n",
        "    Mom_y_avg=Mom_y_total/n\n",
        "    Mom_z_avg=Mom_z_total/n\n",
        "    vel_per_particle=vel_per_particle-np.array([Mom_x_avg,Mom_y_avg,Mom_z_avg]).reshape(1,3)\n",
        "    k_avg_init=0.5*(1/n)*np.sum(np.sum(vel_per_particle**2,axis=1),axis=0)\n",
        "    k_avg_T_eq=total_k/n\n",
        "    scaling_ratio=np.sqrt(k_avg_T_eq/k_avg_init)\n",
        "    vel_per_particle=vel_per_particle*scaling_ratio\n",
        "    return vel_per_particle"
      ],
      "execution_count": 7,
      "outputs": [
        {
          "output_type": "stream",
          "text": [
            "Writing velocity_generator.py\n"
          ],
          "name": "stdout"
        }
      ]
    },
    {
      "cell_type": "code",
      "metadata": {
        "colab": {
          "base_uri": "https://localhost:8080/"
        },
        "id": "CPfayzJiQV3G",
        "outputId": "5e31cee1-3d91-4a20-ab2d-09f5b3553602"
      },
      "source": [
        "%%writefile MD_sim_algorithm.py\n",
        "import numpy as np\n",
        "from random import sample\n",
        "import numba\n",
        "\n",
        "class SpatialDomainData:\n",
        "  def __init__(self, position=np.array([]), velocity=np.array([]), acceleration=np.array([])):\n",
        "    self.P = position\n",
        "    self.V = velocity\n",
        "    self.A = acceleration\n",
        "\n",
        "  def __repr__(self):\n",
        "    return \"(P:{}, V:{}, A:{})\".format(self.P, self.V, self.A)\n",
        "\n",
        "\n",
        "  def concat(self, other):\n",
        "    self.P = np.concatenate((self.P, other.P), 0)\n",
        "    self.V = np.concatenate((self.V, other.V), 0)\n",
        "    self.A = np.concatenate((self.A, other.A), 0)\n",
        "\n",
        "#function of pbc rule2\n",
        "#@numba.njit\n",
        "def pbc2(separation,L):\n",
        "    separation_new=np.zeros((separation.shape[0],3))   \n",
        "    for i in range(separation.shape[0]):\n",
        "        separation_ind=separation[i,:]\n",
        "        separation_empty=np.zeros((1,3))\n",
        "        for j in range(3):\n",
        "            separation_axis=numba.float64(separation_ind[j])\n",
        "            #separation_axis_new=np.zeros((1,))\n",
        "            if separation_axis < -L/2:\n",
        "                separation_axis_new=separation_axis+L\n",
        "            elif separation_axis > L/2:\n",
        "                separation_axis_new=separation_axis-L\n",
        "            else:\n",
        "                separation_axis_new=separation_axis\n",
        "            separation_empty[:,j]=separation_axis_new\n",
        "        separation_new[i,:]=separation_empty\n",
        "    return separation_new\n",
        "\n",
        "#@numba.njit\n",
        "def pbc1(position,L):\n",
        "    x_new=np.zeros((position.shape[0],3))   \n",
        "    for i in range(position.shape[0]):\n",
        "        position_ind=position[i,:]\n",
        "        position_empty=np.zeros((1,3))\n",
        "        for j in range(3):\n",
        "            position_axis=numba.float64(position_ind[j])\n",
        "            #separation_axis_new=np.zeros((1,))\n",
        "            if position_axis < 0:\n",
        "                position_axis_new=position_axis+L\n",
        "            elif position_axis > L:\n",
        "                position_axis_new=position_axis-L\n",
        "            else:\n",
        "                position_axis_new=position_axis\n",
        "            position_empty[:,j]=position_axis_new\n",
        "        x_new[i,:]=position_empty\n",
        "    return x_new\n",
        "\n",
        "def separate_points(infodict, my_i):\n",
        "    atoms=256\n",
        "    neighb_spd=None\n",
        "    for i,spd in infodict.items():\n",
        "      if i!=my_i:\n",
        "        if (neighb_spd is None):\n",
        "          neighb_spd = copy.deepcopy(spd)\n",
        "        else:\n",
        "          neighb_spd.concat(spd)\n",
        "    #check this\n",
        "    if my_i>len(infodict):#==100:\n",
        "      result=0\n",
        "    else:\n",
        "      result=infodict[my_i]\n",
        "    return result,neighb_spd\n",
        "\n",
        "def concatDict(infodict):\n",
        "  atoms=256\n",
        "  wholeDict=None\n",
        "  for i,spd in infodict.items():\n",
        "    \n",
        "      if (wholeDict is None):\n",
        "        wholeDict = copy.deepcopy(spd)\n",
        "      else:\n",
        "        wholeDict.concat(spd)\n",
        "  \n",
        "  return wholeDict\n",
        "\n",
        "# %%\n",
        "#function of dimensionless LJ: U(r)=4(r^{-12}-r^{-6})\n",
        "#define the function of acceleration of LJ potential with cut_off\n",
        "#@numba.njit\n",
        "def LJ_accel(position,neighb_x_0,r_cut,L):\n",
        "    subcube_atoms=position.shape[0]\n",
        "    #careful kind of confusing\n",
        "    position=np.concatenate((position,neighb_x_0),0)\n",
        "    num=position.shape[0]\n",
        "  \n",
        "    update_accel=np.zeros((subcube_atoms,3))\n",
        "    dU_drcut=48*r_cut**(-13)-24*r_cut**(-7) #evaluate at r_cutoff\n",
        "    #for loop is only of subcube we are interested in but we have to account for ALL distance!\n",
        "    for atom in range(subcube_atoms):\n",
        "        position_other=np.concatenate((position[0:atom,:],position[atom+1:num+1,:]),axis=0)\n",
        "        \n",
        "        position_atom=position[atom]\n",
        "        separation=position_atom-position_other   \n",
        "        separation_new=pbc2(separation=separation,L=L)\n",
        "        r_relat=np.sqrt(np.sum(separation_new**2,axis=1))\n",
        "        \n",
        "        #get out the particles inside the r_cut\n",
        "        accel=np.zeros((r_relat.shape[0],3))\n",
        "        #get out the particles inside the r_limit\n",
        "        for i, r0 in enumerate(r_relat):\n",
        "            if r0 <= r_cut:\n",
        "               #active_r_relat.append(r0)\n",
        "               separation_active_num=separation_new[i,:]\n",
        "               vector_part=separation_active_num*(1/r0)\n",
        "               scalar_part=48*r0**(-13)-24*r0**(-7)-dU_drcut\n",
        "               accel_num=vector_part*scalar_part\n",
        "               accel[i,:]=accel_num\n",
        "\n",
        "        update_accel[atom,:]=np.sum(accel,axis=0)\n",
        "        \n",
        "    return update_accel.reshape(subcube_atoms,3)\n",
        "\n",
        "\n",
        "#Function for avg KE (the system) \n",
        "#@numba.njit\n",
        "def Kin_Eng(m,x_dot):\n",
        "    num=x_dot.shape[0]\n",
        "    Kinetic_per=0.5*m*np.sum(x_dot**2,axis=1)\n",
        "    Kinetic_sum=np.sum(Kinetic_per,axis=0)\n",
        "    return Kinetic_sum\n",
        "\n",
        "#Function for avg LJ potential with cut_off\n",
        "#@numba.jit(nopython=True)\n",
        "def LJ_potent_nondimen(position,r_cut=2.5,L=6.8):\n",
        "    num=position.shape[0]\n",
        "    update_LJ=np.zeros((num-1,1))\n",
        "    \n",
        "    #fix value for a certain r_limit\n",
        "    dU_drcut=24*r_cut**(-7)-48*r_cut**(-13)\n",
        "    U_rcut=4*(r_cut**(-12)-r_cut**(-6))\n",
        "    #print(numba.typeof(r_cut))\n",
        "    #L_half=np.array(L/2)\n",
        "    for ind, atom in enumerate(range(num-1)):\n",
        "        position_relevent=position[atom:,:]\n",
        "        position_other=position_relevent[1:,:]\n",
        "        \n",
        "        #pbc rule2\n",
        "        separation=position_relevent[0,:]-position_other\n",
        "        separation_new=pbc2(separation=separation,L=L)\n",
        "        \n",
        "        r_relat=np.sqrt(np.sum(separation_new**2,axis=1)).reshape(separation_new.shape[0],)\n",
        "        LJ=[]\n",
        "        #get out the particles inside the r_limit\n",
        "        for i, r0 in enumerate(r_relat):\n",
        "            if r0 <= r_cut:\n",
        "               #active_r_relat.append(r0)\n",
        "               LJ_num=4*r0**(-12)-4*r0**(-6)-U_rcut-(r0-r_cut)*dU_drcut\n",
        "               LJ.append(LJ_num)\n",
        "        #active_particle=r_relat<=r_cut_mat\n",
        "        #active_r_relat=r_relat[active_particle]\n",
        "        #active_amount=np.array(active_r_relat).shape[0]\n",
        "        #if active_amount!=0:\n",
        "            #LJ=4*active_r_relat**(-12)-4*active_r_relat**(-6)-np.array(U_rcut)-(active_r_relat-r_cut)*np.array(dU_drcut) #double counting issue here\n",
        "            update_LJ[atom,:]=np.sum(np.array(LJ),axis=0)    \n",
        "    return np.sum(update_LJ)\n",
        "\n",
        "# %%\n",
        "#Function of insta Pressue\n",
        "#@numba.njit\n",
        "def insta_pressure(L,T,N,position,r_cut,e_scale):\n",
        "    num=position.shape[0]\n",
        "    k_B=1.38064852*10**(-23)\n",
        "    #k_B=1 #if dimensionless\n",
        "    V=L**3\n",
        "  \n",
        "    pres_ideal=N*T*(k_B/e_scale)/V\n",
        "    dU_drcut=24*r_cut**(-7)-48*r_cut**(-13)\n",
        "    pres_virial=np.zeros((num-1,1))\n",
        "    for atom in range(num-1):\n",
        "        position_relevent=position[atom:,:]\n",
        "        position_other=position_relevent[1:,:]\n",
        "        position_atom=position_relevent[0,:]\n",
        "        \n",
        "        #pbc rule 2\n",
        "        separation=position_atom-position_other\n",
        "        separation_new=pbc2(separation=separation,L=L)\n",
        "        \n",
        "        r_relat=np.sqrt(np.sum(separation_new**2,axis=1)).reshape(separation_new.shape[0],)\n",
        "        force=[]\n",
        "        active_r_relat=[]\n",
        "        #get out the particles inside the r_limit\n",
        "        for i, r0 in enumerate(r_relat):\n",
        "            if r0 <= r_cut:\n",
        "               #active_r_relat.append(r0)\n",
        "               force_num=-(24*r0**(-7)-48*r0**(-13))+dU_drcut\n",
        "               force.append(force_num)\n",
        "               active_r_relat.append(r0)    \n",
        "               \n",
        "        # #get out the particles inside the r_cut\n",
        "        active_amount=np.array(active_r_relat).shape[0]\n",
        "        \n",
        "        rijFij=np.array(active_r_relat).reshape(1,active_amount)@np.array(force).reshape(active_amount,1)\n",
        "        pres_virial[atom,:]=rijFij\n",
        "    pres_insta=pres_ideal+np.sum(pres_virial,axis=0)/(3*V) #Double Count?\n",
        "    return pres_insta\n",
        "\n",
        "# %%\n",
        "#Update rule: velocity Verlet\n",
        "#@numba.njit\n",
        "def vel_Ver(infodict,procid,dt,r_limit=2.5,L=6.8):\n",
        "    ## Get the data for the current spatial domain \n",
        "      my_spd, neighs_spd= separate_points(infodict, procid) \n",
        "\n",
        "    ##acceleration at t0\n",
        "      my_spd.A=LJ_accel(position=my_spd.P,neighb_x_0=neighs_spd.P,r_cut=r_limit,L=L) \n",
        "      \n",
        "    ##velocity at dt/2\n",
        "      my_spd.V=my_spd.V+my_spd.A*(dt/2)\n",
        "      \n",
        "    ##position at dt\n",
        "      my_spd.P=my_spd.P+my_spd.V*dt\n",
        "      \n",
        "    ##PBC rule 1\n",
        "      my_spd.P=pbc1(position=my_spd.P,L=L)\n",
        "      infodict[procid]=my_spd\n",
        "    ##???? Why there were 2 for-loop?\n",
        "      return infodict \n",
        "\n",
        "def celltodic(positions,nx,ny,nz,L):\n",
        "  xinterval=L/nx\n",
        "  yinterval=L/ny\n",
        "  zinterval=L/nz\n",
        "  cell_lists={}\n",
        "  for i in range (1,nx*ny*nz+1): \n",
        "    cell_lists[i]= np.array([]) \n",
        "  \n",
        "  for i in range(0, positions.shape[0]):\n",
        "    atom=positions[i,0:9]\n",
        "    #check extra one!!!\n",
        "    #if statements !!!!!!!\n",
        "    #check later\n",
        "    atomID=(np.floor(atom[0]/xinterval)+1+(np.floor(atom[1]/yinterval))*ny)+(np.floor(atom[2]/zinterval))*(nx*ny)\n",
        "    #atomID=(np.floor(atom[0]/xinterval)+1+(np.floor(atom[1]/yinterval))+1)+(np.floor(atom[2]/zinterval))*(nx*ny)\n",
        "    atomID=int(atomID)\n",
        "    assert(atomID<9)\n",
        "    if atomID>9:\n",
        "      print('atomID>9')\n",
        "    assert(atomID>0)\n",
        "    if atomID<0:\n",
        "      print('atomID<0')\n",
        "    cell_lists[atomID]=np.append(cell_lists[atomID],atom)\n",
        "    #print(atomID)\n",
        "\n",
        "  for i in range(1,nx*ny*nz+1):\n",
        "    # I think this works but we should think more about what an \"empty\" shape means\n",
        "    # currently when a key points to an empty cube the cube has a position vector of dimensions [0,3]\n",
        "    if cell_lists[i].shape[0]!=0:\n",
        "      #check shape!\n",
        "      temp_reshaped=np.reshape(cell_lists[i],((cell_lists[i].shape[0])//9,9))\n",
        "      temp_position = temp_reshaped[:,0:3]\n",
        "      assert(temp_position.shape[1] == 3)\n",
        "      temp_velocity = temp_reshaped[:,3:6]\n",
        "      temp_acceleration = temp_reshaped[:,6:9]\n",
        "      #some object oriented programming\n",
        "      spatial_domain_data = SpatialDomainData(temp_position,\n",
        "                                              temp_velocity,\n",
        "                                              temp_acceleration)\n",
        "      cell_lists[i] = spatial_domain_data\n",
        "    else:\n",
        "      cell_lists[i] = SpatialDomainData(np.empty((0,3)),\n",
        "                                        np.empty((0,3)),\n",
        "                                        np.empty((0,3)))\n",
        "\n",
        "  return cell_lists"
      ],
      "execution_count": 41,
      "outputs": [
        {
          "output_type": "stream",
          "text": [
            "Overwriting MD_sim_algorithm.py\n"
          ],
          "name": "stdout"
        }
      ]
    },
    {
      "cell_type": "code",
      "metadata": {
        "colab": {
          "base_uri": "https://localhost:8080/"
        },
        "id": "-JV6r4b-RHMQ",
        "outputId": "dad413d8-ec46-48bd-cdfa-78fd3bf5fb24"
      },
      "source": [
        "%%writefile MD_parallel_simulation.py\n",
        "#The LJ potential MD simulation function\n",
        "#@numba.njit\n",
        "import sys\n",
        "nb_path = '/content/drive/MyDrive/Colab Notebooks'\n",
        "sys.path.insert(0,nb_path)\n",
        "from mpi4py import MPI\n",
        "import numpy as np\n",
        "import time\n",
        "from random import sample\n",
        "import numba\n",
        "import tqdm\n",
        "from velocity_generator import random_vel_generator\n",
        "from MD_sim_algorithm import LJ_potent_nondimen, Kin_Eng, insta_pressure, celltodic, vel_Ver\n",
        "print('finished_loading')\n",
        "def LJ_MD(subdiv,position_init,dt,stop_step,accel_init,r_cut,L,T_eq,e_scale,sig):\n",
        "    comm = MPI.COMM_WORLD\n",
        "    my_rank = comm.Get_rank()\n",
        "    p = comm.Get_size()\n",
        "    print('finished finding the location')\n",
        "    ###Master Nodes \n",
        "    ## Reposbility: 1) assigning random velocity,\n",
        "    ##              2) gather position of the atoms at each iteration to calculate KE, PE, T and P\n",
        "    ##              3) redistribute the position to each cores\n",
        "    if my_rank == 0:\n",
        "        print(my_rank)\n",
        "      #useful constant\n",
        "        k_B=1.38064852*10**(-23)\n",
        "        size_sim=position_init.shape[0]\n",
        "    \n",
        "      #velocity initialization \n",
        "        x_dot_init=random_vel_generator(n=size_sim,T_equal=T_eq,m=1,e_scale=e_scale)\n",
        "      \n",
        "      #initialize the info, PE, KE, T_insta, P_insta\n",
        "        info=np.zeros((stop_step+1,size_sim,9))\n",
        "        PE=np.zeros((stop_step+1,1))\n",
        "        KE=np.zeros((stop_step+1,1))\n",
        "        T_insta=np.zeros((stop_step+1,1))\n",
        "        P_insta=np.zeros((stop_step+1,1))\n",
        "\n",
        "      #start to generate value for the 0th iteration \n",
        "        info[0,:,:]=np.concatenate((position_init,x_dot_init,accel_init),axis=1) #do we need to care about the rank?\n",
        "        PE[0,:]=LJ_potent_nondimen(info[0,:,0:3],r_cut=r_cut,L=L) #unitless\n",
        "        KE[0,:]=Kin_Eng(m=1,x_dot=info[0,:,3:6]) #unitless\n",
        "        T_insta[0,:]=2*KE[0,:]*e_scale/(3*(size_sim-1)*k_B) #k\n",
        "        P_insta[0,:]=insta_pressure(L=L,T=T_insta[0],N=size_sim,position=info[0,:,0:3],r_cut=r_cut,e_scale=e_scale) #unitless\n",
        "        print('finished initializing')\n",
        "        ## this infotodic currently contains 8 keys. (so our mpirun has to be 9, how to get it dynamic?)\n",
        "        \n",
        "        for step in range(stop_step):\n",
        "          #divide work\n",
        "            infotodic=celltodic((info[step,:,:]),subdiv[0],subdiv[1],subdiv[2],L)\n",
        "          #broadcast this dict to all processors\n",
        "            #infotodic=comm.bcast(infotodic, root=0)\n",
        "          #this is a little bit stupid but I dont know how to get broadcast to work.\n",
        "          ### the following comment area may be better? #use scatter \n",
        "          # #distribute work  \n",
        "          #   for index, item in infotodic.items():\n",
        "          #       comm.send(item,dest=index) #this is slow because we will send message one by one how to do it more efficiently?\n",
        "          \n",
        "          #receive work from processors\n",
        "            info_per_cube={} #a better way to do this?\n",
        "            for procid in range(1,p):\n",
        "                print('preparing to send')\n",
        "                #comm.Barrier()\n",
        "                comm.send(infotodic,dest=procid)\n",
        "                print(my_rank,'sent')\n",
        "                info_per_cube[procid]=comm.recv(source=procid) #recieving information from each processors\n",
        "                print(my_rank,'received from',procid)\n",
        "            info[step+1,:,:] = np.array(list(info_per_cub.values())).reshape(1,size_sim,9)\n",
        "          #calculate PE KE T_insta and P_insta\n",
        "            PE[step+1,:]=LJ_potent_nondimen(info[step+1,:,0:3],r_cut=r_cut,L=L)#unitless\n",
        "            KE[step+1,:]=Kin_Eng(m=1,x_dot=info[step+1,:,3:6])#unitless\n",
        "            T_insta[step+1,:]=2*KE[step+1,:]*e_scale/(3*(size_sim-1)*k_B)#k\n",
        "            P_insta[step+1,:]=insta_pressure(L=L,T=T_insta[step+1],N=size_sim,position=info[step+1,:,0:3],r_cut=r_cut,e_scale=e_scale)#unitless\n",
        "        return info,PE,KE,T_insta,P_insta  \n",
        "    else:\n",
        "      #receive message from bcast\n",
        "\n",
        "        print(my_rank)\n",
        "        print('preparing to receive')\n",
        "        #comm.Barrier()\n",
        "        infotodic=comm.recv(source=0)\n",
        "        print(my_rank,'received')\n",
        "        info_temp=vel_Ver(infodict=infotodic,procid=my_rank,dt=dt,r_limit=r_cut,L=L)\n",
        "        comm.send(info_temp[my_rank],dest=0) \n",
        "        print(my_rank,'sent')\n",
        "\n",
        "def saving_NVE(T_insta,P_insta,KE,PE,info,path=''):\n",
        "    #save the last 1000 step xyz file (position)\n",
        "    file_name=path+'position.xyz'\n",
        "    comment = 'This is the position of the system during the last 1000 steps'\n",
        "    with open(file_name, 'w') as f:\n",
        "        f.write(\"%s\\n\" % str(info.shape[1]))\n",
        "        f.write(\"%s\\n\" % comment)\n",
        "        for atom in info[-1000:,:,0:3]:\n",
        "            for position in atom:\n",
        "                f.write(\"LJ \")\n",
        "                f.write(\"%s\\n\" % str(position[:])[1:-2])\n",
        "    #save everything else\n",
        "    file_name=path+'results.txt'\n",
        "    with open(file_name, 'w') as f:\n",
        "        f.write('KE'+\"\\t\"+'PE'+\"\\t\"+\"T_insta(K)\"+\"\\t\"+\"P_insta\"+\"\\n\")\n",
        "        for i,T in enumerate(T_insta):\n",
        "            f.write(str(KE[i,:])[1:-2]+'\\t'+str(PE[i,:])[1:-2]+\"\\t\"+str(T)[1:-2]+\"\\t\"+str(P_insta[i,:])[1:-2])\n",
        "            f.write('\\n')\n",
        "\n",
        "\n",
        "\n",
        "if __name__ == \"__main__\":\n",
        "  k_B=1.38064852*10**(-23)\n",
        "  #read position file\n",
        "  file_name='liquid256.txt'\n",
        "  position_init=np.loadtxt(file_name)\n",
        "  #specify cubes\n",
        "  subdiv=np.array([2,2,2])\n",
        "  #specify dt\n",
        "  dt=0.002\n",
        "  #specify stop_step\n",
        "  stop_step=20\n",
        "  #specify accel_init\n",
        "  accel_init = np.zeros((position_init.shape[0],3))\n",
        "  #specify r_cut\n",
        "  r_cut=2.5\n",
        "  #specify L\n",
        "  L=6.8\n",
        "  #specify e_scale\n",
        "  e_scale = 1.66*10**(-21)\n",
        "  #specify sigma\n",
        "  sig=3.4\n",
        "  #specify T_eq\n",
        "  T_dimensional_equal=123\n",
        "  T_eq=T_dimensional_equal*k_B/e_scale\n",
        "  #call the MD_function\n",
        "  start_time=time.time()\n",
        "  print('calling')\n",
        "  info,PE,KE,T_insta,P_insta=LJ_MD(subdiv,\n",
        "                                  position_init,\n",
        "                                  dt,\n",
        "                                  stop_step,\n",
        "                                  accel_init,\n",
        "                                  r_cut,\n",
        "                                  L,\n",
        "                                  T_eq,\n",
        "                                  e_scale,\n",
        "                                  sig)\n",
        "  end_time=time.time()\n",
        "  print('Time taken:', int(end_time,start_time))\n",
        "  saving_NVE(T_insta,P_insta,KE,PE,info)"
      ],
      "execution_count": 56,
      "outputs": [
        {
          "output_type": "stream",
          "text": [
            "Overwriting MD_parallel_simulation.py\n"
          ],
          "name": "stdout"
        }
      ]
    },
    {
      "cell_type": "code",
      "metadata": {
        "colab": {
          "base_uri": "https://localhost:8080/"
        },
        "id": "djTDzXoXS6NY",
        "outputId": "90f93410-8d00-448e-d160-321b6df43281"
      },
      "source": [
        "!mpirun --allow-run-as-root -np 9 python MD_parallel_simulation.py"
      ],
      "execution_count": null,
      "outputs": [
        {
          "output_type": "stream",
          "text": [
            "finished_loading\n",
            "finished_loading\n",
            "finished_loading\n",
            "calling\n",
            "calling\n",
            "finished finding the location\n",
            "6\n",
            "preparing to receive\n",
            "calling\n",
            "finished finding the location\n",
            "2\n",
            "preparing to receive\n",
            "finished_loading\n",
            "finished_loading\n",
            "finished finding the location\n",
            "8\n",
            "preparing to receive\n",
            "calling\n",
            "calling\n",
            "finished finding the location\n",
            "3\n",
            "preparing to receive\n",
            "finished finding the location\n",
            "0\n",
            "finished_loading\n",
            "calling\n",
            "finished finding the location\n",
            "4\n",
            "preparing to receive\n",
            "finished_loading\n",
            "finished_loading\n",
            "finished_loading\n",
            "calling\n",
            "finished finding the location\n",
            "7\n",
            "preparing to receive\n",
            "calling\n",
            "finished finding the location\n",
            "5\n",
            "preparing to receive\n",
            "calling\n",
            "finished finding the location\n",
            "1\n",
            "preparing to receive\n"
          ],
          "name": "stdout"
        }
      ]
    },
    {
      "cell_type": "code",
      "metadata": {
        "colab": {
          "base_uri": "https://localhost:8080/",
          "height": 35
        },
        "id": "ff6st-4wTC6P",
        "outputId": "2f7f7203-b6fc-4777-9cb2-191015bf09e7"
      },
      "source": [
        "path=''\n",
        "path+'info.txt'"
      ],
      "execution_count": 19,
      "outputs": [
        {
          "output_type": "execute_result",
          "data": {
            "application/vnd.google.colaboratory.intrinsic+json": {
              "type": "string"
            },
            "text/plain": [
              "'info.txt'"
            ]
          },
          "metadata": {
            "tags": []
          },
          "execution_count": 19
        }
      ]
    },
    {
      "cell_type": "code",
      "metadata": {
        "id": "ONeC4woUXbxT"
      },
      "source": [
        "info=np.random.rand(9,5,3)"
      ],
      "execution_count": 24,
      "outputs": []
    },
    {
      "cell_type": "code",
      "metadata": {
        "colab": {
          "base_uri": "https://localhost:8080/"
        },
        "id": "LE1hujb4YK7Z",
        "outputId": "7517d04f-7bce-4f22-cb95-52ee699ae704"
      },
      "source": [
        "for i in info:\n",
        "  print(i)"
      ],
      "execution_count": 25,
      "outputs": [
        {
          "output_type": "stream",
          "text": [
            "[[0.67188078 0.44242771 0.67562162]\n",
            " [0.25197418 0.28178    0.00640083]\n",
            " [0.17953964 0.04367291 0.01620384]\n",
            " [0.22797102 0.81932098 0.67418992]\n",
            " [0.18500425 0.5736284  0.06770863]]\n",
            "[[0.8378475  0.60806688 0.45036725]\n",
            " [0.01052179 0.79141131 0.83301951]\n",
            " [0.59394891 0.97249402 0.03545833]\n",
            " [0.26174397 0.39341321 0.66434665]\n",
            " [0.7499728  0.96756242 0.31730333]]\n",
            "[[0.52962145 0.84257323 0.03791137]\n",
            " [0.71012184 0.02665231 0.93025146]\n",
            " [0.18669956 0.5968499  0.77365144]\n",
            " [0.59550404 0.41471677 0.79738249]\n",
            " [0.24203885 0.44230083 0.0033755 ]]\n",
            "[[0.05389326 0.73104985 0.956448  ]\n",
            " [0.95378349 0.56360241 0.33202853]\n",
            " [0.29415761 0.40808656 0.4083257 ]\n",
            " [0.24473047 0.79736096 0.52335965]\n",
            " [0.19568035 0.74141544 0.60511017]]\n",
            "[[0.07677045 0.08606742 0.17943435]\n",
            " [0.35444906 0.55926564 0.68376782]\n",
            " [0.88770079 0.99181115 0.63499278]\n",
            " [0.31232944 0.02964499 0.88209909]\n",
            " [0.5730626  0.54046318 0.06526612]]\n",
            "[[0.71455112 0.94534479 0.84430299]\n",
            " [0.7363669  0.93703674 0.19752565]\n",
            " [0.66157175 0.63926989 0.07827907]\n",
            " [0.01879714 0.06812865 0.85221509]\n",
            " [0.39546345 0.77068589 0.95643335]]\n",
            "[[0.42187527 0.64321229 0.82583681]\n",
            " [0.62140421 0.70841409 0.82844239]\n",
            " [0.59914576 0.96669097 0.83581799]\n",
            " [0.56796413 0.01271122 0.43120494]\n",
            " [0.14959595 0.65539724 0.76984447]]\n",
            "[[0.95065365 0.42991302 0.7685708 ]\n",
            " [0.40049639 0.67304731 0.59933937]\n",
            " [0.10373174 0.09034742 0.84767315]\n",
            " [0.33085559 0.20636199 0.15737658]\n",
            " [0.0372611  0.64335986 0.25173865]]\n",
            "[[0.44023686 0.59144337 0.18301039]\n",
            " [0.61902525 0.61274967 0.00910038]\n",
            " [0.52901176 0.87433266 0.80590133]\n",
            " [0.22923462 0.85981885 0.62525553]\n",
            " [0.16540382 0.17036483 0.54514831]]\n"
          ],
          "name": "stdout"
        }
      ]
    },
    {
      "cell_type": "code",
      "metadata": {
        "id": "yS0oZUWxYNrz"
      },
      "source": [
        ""
      ],
      "execution_count": null,
      "outputs": []
    }
  ]
}