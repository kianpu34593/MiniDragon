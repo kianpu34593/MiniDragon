{
  "nbformat": 4,
  "nbformat_minor": 0,
  "metadata": {
    "colab": {
      "name": "12/1 ProjectCode.ipynb",
      "provenance": [],
      "collapsed_sections": []
    },
    "kernelspec": {
      "display_name": "Python 3.7.4 64-bit ('base': conda)",
      "name": "Python 3.7.4 64-bit ('base': conda)"
    },
    "language_info": {
      "codemirror_mode": {
        "name": "ipython",
        "version": 3
      },
      "file_extension": ".py",
      "mimetype": "text/x-python",
      "name": "python",
      "nbconvert_exporter": "python",
      "pygments_lexer": "ipython3",
      "version": "3.7.4-final"
    },
    "widgets": {
      "application/vnd.jupyter.widget-state+json": {
        "9580f732d591431e9679f592ccce223c": {
          "model_module": "@jupyter-widgets/controls",
          "model_name": "HBoxModel",
          "state": {
            "_view_name": "HBoxView",
            "_dom_classes": [],
            "_model_name": "HBoxModel",
            "_view_module": "@jupyter-widgets/controls",
            "_model_module_version": "1.5.0",
            "_view_count": null,
            "_view_module_version": "1.5.0",
            "box_style": "",
            "layout": "IPY_MODEL_5bd9baa9b3c3495685719e7fab2be54b",
            "_model_module": "@jupyter-widgets/controls",
            "children": [
              "IPY_MODEL_8133b68db2834eada894418cfd4d3184",
              "IPY_MODEL_e727ed07ed2a458faac14c024bc62b38"
            ]
          }
        },
        "5bd9baa9b3c3495685719e7fab2be54b": {
          "model_module": "@jupyter-widgets/base",
          "model_name": "LayoutModel",
          "state": {
            "_view_name": "LayoutView",
            "grid_template_rows": null,
            "right": null,
            "justify_content": null,
            "_view_module": "@jupyter-widgets/base",
            "overflow": null,
            "_model_module_version": "1.2.0",
            "_view_count": null,
            "flex_flow": null,
            "width": null,
            "min_width": null,
            "border": null,
            "align_items": null,
            "bottom": null,
            "_model_module": "@jupyter-widgets/base",
            "top": null,
            "grid_column": null,
            "overflow_y": null,
            "overflow_x": null,
            "grid_auto_flow": null,
            "grid_area": null,
            "grid_template_columns": null,
            "flex": null,
            "_model_name": "LayoutModel",
            "justify_items": null,
            "grid_row": null,
            "max_height": null,
            "align_content": null,
            "visibility": null,
            "align_self": null,
            "height": null,
            "min_height": null,
            "padding": null,
            "grid_auto_rows": null,
            "grid_gap": null,
            "max_width": null,
            "order": null,
            "_view_module_version": "1.2.0",
            "grid_template_areas": null,
            "object_position": null,
            "object_fit": null,
            "grid_auto_columns": null,
            "margin": null,
            "display": null,
            "left": null
          }
        },
        "8133b68db2834eada894418cfd4d3184": {
          "model_module": "@jupyter-widgets/controls",
          "model_name": "FloatProgressModel",
          "state": {
            "_view_name": "ProgressView",
            "style": "IPY_MODEL_e0c67c7ffb574570966a6c4e097202d6",
            "_dom_classes": [],
            "description": "100%",
            "_model_name": "FloatProgressModel",
            "bar_style": "success",
            "max": 2000,
            "_view_module": "@jupyter-widgets/controls",
            "_model_module_version": "1.5.0",
            "value": 2000,
            "_view_count": null,
            "_view_module_version": "1.5.0",
            "orientation": "horizontal",
            "min": 0,
            "description_tooltip": null,
            "_model_module": "@jupyter-widgets/controls",
            "layout": "IPY_MODEL_f7e9ff5cb4034ebe8c97e1c1f647c0d7"
          }
        },
        "e727ed07ed2a458faac14c024bc62b38": {
          "model_module": "@jupyter-widgets/controls",
          "model_name": "HTMLModel",
          "state": {
            "_view_name": "HTMLView",
            "style": "IPY_MODEL_846ec188680c42f3b0f0c05599469574",
            "_dom_classes": [],
            "description": "",
            "_model_name": "HTMLModel",
            "placeholder": "​",
            "_view_module": "@jupyter-widgets/controls",
            "_model_module_version": "1.5.0",
            "value": " 2000/2000 [08:43&lt;00:00,  3.82it/s]",
            "_view_count": null,
            "_view_module_version": "1.5.0",
            "description_tooltip": null,
            "_model_module": "@jupyter-widgets/controls",
            "layout": "IPY_MODEL_4e376bb1d752495b88c4c982304ad0e7"
          }
        },
        "e0c67c7ffb574570966a6c4e097202d6": {
          "model_module": "@jupyter-widgets/controls",
          "model_name": "ProgressStyleModel",
          "state": {
            "_view_name": "StyleView",
            "_model_name": "ProgressStyleModel",
            "description_width": "initial",
            "_view_module": "@jupyter-widgets/base",
            "_model_module_version": "1.5.0",
            "_view_count": null,
            "_view_module_version": "1.2.0",
            "bar_color": null,
            "_model_module": "@jupyter-widgets/controls"
          }
        },
        "f7e9ff5cb4034ebe8c97e1c1f647c0d7": {
          "model_module": "@jupyter-widgets/base",
          "model_name": "LayoutModel",
          "state": {
            "_view_name": "LayoutView",
            "grid_template_rows": null,
            "right": null,
            "justify_content": null,
            "_view_module": "@jupyter-widgets/base",
            "overflow": null,
            "_model_module_version": "1.2.0",
            "_view_count": null,
            "flex_flow": null,
            "width": null,
            "min_width": null,
            "border": null,
            "align_items": null,
            "bottom": null,
            "_model_module": "@jupyter-widgets/base",
            "top": null,
            "grid_column": null,
            "overflow_y": null,
            "overflow_x": null,
            "grid_auto_flow": null,
            "grid_area": null,
            "grid_template_columns": null,
            "flex": null,
            "_model_name": "LayoutModel",
            "justify_items": null,
            "grid_row": null,
            "max_height": null,
            "align_content": null,
            "visibility": null,
            "align_self": null,
            "height": null,
            "min_height": null,
            "padding": null,
            "grid_auto_rows": null,
            "grid_gap": null,
            "max_width": null,
            "order": null,
            "_view_module_version": "1.2.0",
            "grid_template_areas": null,
            "object_position": null,
            "object_fit": null,
            "grid_auto_columns": null,
            "margin": null,
            "display": null,
            "left": null
          }
        },
        "846ec188680c42f3b0f0c05599469574": {
          "model_module": "@jupyter-widgets/controls",
          "model_name": "DescriptionStyleModel",
          "state": {
            "_view_name": "StyleView",
            "_model_name": "DescriptionStyleModel",
            "description_width": "",
            "_view_module": "@jupyter-widgets/base",
            "_model_module_version": "1.5.0",
            "_view_count": null,
            "_view_module_version": "1.2.0",
            "_model_module": "@jupyter-widgets/controls"
          }
        },
        "4e376bb1d752495b88c4c982304ad0e7": {
          "model_module": "@jupyter-widgets/base",
          "model_name": "LayoutModel",
          "state": {
            "_view_name": "LayoutView",
            "grid_template_rows": null,
            "right": null,
            "justify_content": null,
            "_view_module": "@jupyter-widgets/base",
            "overflow": null,
            "_model_module_version": "1.2.0",
            "_view_count": null,
            "flex_flow": null,
            "width": null,
            "min_width": null,
            "border": null,
            "align_items": null,
            "bottom": null,
            "_model_module": "@jupyter-widgets/base",
            "top": null,
            "grid_column": null,
            "overflow_y": null,
            "overflow_x": null,
            "grid_auto_flow": null,
            "grid_area": null,
            "grid_template_columns": null,
            "flex": null,
            "_model_name": "LayoutModel",
            "justify_items": null,
            "grid_row": null,
            "max_height": null,
            "align_content": null,
            "visibility": null,
            "align_self": null,
            "height": null,
            "min_height": null,
            "padding": null,
            "grid_auto_rows": null,
            "grid_gap": null,
            "max_width": null,
            "order": null,
            "_view_module_version": "1.2.0",
            "grid_template_areas": null,
            "object_position": null,
            "object_fit": null,
            "grid_auto_columns": null,
            "margin": null,
            "display": null,
            "left": null
          }
        }
      }
    }
  },
  "cells": [
    {
      "cell_type": "code",
      "metadata": {
        "id": "BdXYSviSt5ox",
        "colab": {
          "resources": {
            "http://localhost:8080/nbextensions/google.colab/files.js": {
              "data": "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",
              "ok": true,
              "headers": [
                [
                  "content-type",
                  "application/javascript"
                ]
              ],
              "status": 200,
              "status_text": ""
            }
          },
          "base_uri": "https://localhost:8080/",
          "height": 73
        },
        "outputId": "6116a835-dcee-4baa-ae3c-e4454d93bee3"
      },
      "source": [
        "import numpy as np\n",
        "import matplotlib.pyplot as plt\n",
        "from random import sample\n",
        "import numba\n",
        "import time\n",
        "import copy\n",
        "from tqdm.notebook import tqdm\n",
        "plt.rcParams['figure.figsize'] = [8.0, 6.0]\n",
        "#if using google colab\n",
        "from google.colab import files\n",
        "uploaded = files.upload()"
      ],
      "execution_count": 1,
      "outputs": [
        {
          "output_type": "display_data",
          "data": {
            "text/html": [
              "\n",
              "     <input type=\"file\" id=\"files-9284eb49-4fad-4546-99b6-2ce4f4c6f385\" name=\"files[]\" multiple disabled\n",
              "        style=\"border:none\" />\n",
              "     <output id=\"result-9284eb49-4fad-4546-99b6-2ce4f4c6f385\">\n",
              "      Upload widget is only available when the cell has been executed in the\n",
              "      current browser session. Please rerun this cell to enable.\n",
              "      </output>\n",
              "      <script src=\"/nbextensions/google.colab/files.js\"></script> "
            ],
            "text/plain": [
              "<IPython.core.display.HTML object>"
            ]
          },
          "metadata": {
            "tags": []
          }
        },
        {
          "output_type": "stream",
          "text": [
            "Saving liquid256.txt to liquid256.txt\n"
          ],
          "name": "stdout"
        }
      ]
    },
    {
      "cell_type": "code",
      "metadata": {
        "id": "qIfulF2eV1wW"
      },
      "source": [
        "class SpatialDomainData:\n",
        "  def __init__(self, position=np.array([]), velocity=np.array([]), acceleration=np.array([])):\n",
        "    self.P = position\n",
        "    self.V = velocity\n",
        "    self.A = acceleration\n",
        "\n",
        "  def __repr__(self):\n",
        "    return \"(P:{}, V:{}, A:{})\".format(self.P, self.V, self.A)\n",
        "\n",
        "\n",
        "  def concat(self, other):\n",
        "    self.P = np.concatenate((self.P, other.P), 0)\n",
        "    self.V = np.concatenate((self.V, other.V), 0)\n",
        "    self.A = np.concatenate((self.A, other.A), 0)\n"
      ],
      "execution_count": 2,
      "outputs": []
    },
    {
      "cell_type": "code",
      "metadata": {
        "id": "H_ZrgxYTay4M"
      },
      "source": [
        "# %%\n",
        "#Randomlly Initialize the Velocities\n",
        "@numba.njit\n",
        "def random_vel_generator(n=256,T_equal=100,m=1,e_scale=1): # n=number of particles\n",
        "    total_k=3*T_equal*(n-1)/2 #dimensionless\n",
        "    vel_per_particle=np.zeros((n,3))\n",
        "    for axis in range(3):\n",
        "        vel_per_particle[:,axis]=np.random.randn(256,)-0.5\n",
        "    Mom_x_total=np.sum(vel_per_particle[:,0])\n",
        "    Mom_y_total=np.sum(vel_per_particle[:,1])\n",
        "    Mom_z_total=np.sum(vel_per_particle[:,2])\n",
        "    Mom_x_avg=Mom_x_total/n\n",
        "    Mom_y_avg=Mom_y_total/n\n",
        "    Mom_z_avg=Mom_z_total/n\n",
        "    vel_per_particle=vel_per_particle-np.array([Mom_x_avg,Mom_y_avg,Mom_z_avg]).reshape(1,3)\n",
        "    k_avg_init=0.5*(1/n)*np.sum(np.sum(vel_per_particle**2,axis=1),axis=0)\n",
        "    k_avg_T_eq=total_k/n\n",
        "    scaling_ratio=np.sqrt(k_avg_T_eq/k_avg_init)\n",
        "    vel_per_particle=vel_per_particle*scaling_ratio\n",
        "    return vel_per_particle\n"
      ],
      "execution_count": 3,
      "outputs": []
    },
    {
      "cell_type": "code",
      "metadata": {
        "id": "fVYFmvsXa1Fc"
      },
      "source": [
        "#function of pbc rule2\n",
        "@numba.njit\n",
        "def pbc2(separation,L):\n",
        "    separation_new=np.zeros((separation.shape[0],3))   \n",
        "    for i in range(separation.shape[0]):\n",
        "        separation_ind=separation[i,:]\n",
        "        separation_empty=np.zeros((1,3))\n",
        "        for j in range(3):\n",
        "            separation_axis=numba.float64(separation_ind[j])\n",
        "            #separation_axis_new=np.zeros((1,))\n",
        "            if separation_axis < -L/2:\n",
        "                separation_axis_new=separation_axis+L\n",
        "            elif separation_axis > L/2:\n",
        "                separation_axis_new=separation_axis-L\n",
        "            else:\n",
        "                separation_axis_new=separation_axis\n",
        "            separation_empty[:,j]=separation_axis_new\n",
        "        separation_new[i,:]=separation_empty\n",
        "    return separation_new"
      ],
      "execution_count": 4,
      "outputs": []
    },
    {
      "cell_type": "code",
      "metadata": {
        "id": "tuhz8qdba314"
      },
      "source": [
        "#function of pbc rule1\n",
        "@numba.njit\n",
        "def pbc1(position,L):\n",
        "    x_new=np.zeros((position.shape[0],3))   \n",
        "    for i in range(position.shape[0]):\n",
        "        position_ind=position[i,:]\n",
        "        position_empty=np.zeros((1,3))\n",
        "        for j in range(3):\n",
        "            position_axis=numba.float64(position_ind[j])\n",
        "            #separation_axis_new=np.zeros((1,))\n",
        "            if position_axis < 0:\n",
        "                position_axis_new=position_axis+L\n",
        "            elif position_axis > L:\n",
        "                position_axis_new=position_axis-L\n",
        "            else:\n",
        "                position_axis_new=position_axis\n",
        "            position_empty[:,j]=position_axis_new\n",
        "        x_new[i,:]=position_empty\n",
        "    return x_new"
      ],
      "execution_count": 5,
      "outputs": []
    },
    {
      "cell_type": "code",
      "metadata": {
        "id": "9ZHnz0Iwbv-g"
      },
      "source": [
        "def separate_points(infodict, my_i):\n",
        "  atoms=256\n",
        "  neighb_spd=None\n",
        "  for i,spd in infodict.items():\n",
        "    if i!=my_i:\n",
        "      if (neighb_spd is None):\n",
        "        neighb_spd = copy.deepcopy(spd)\n",
        "      else:\n",
        "        neighb_spd.concat(spd)\n",
        "  #check this\n",
        "  if my_i>len(infodict):#==100:\n",
        "    result=0\n",
        "  else:\n",
        "    result=infodict[my_i]\n",
        "  return result,neighb_spd\n",
        "\n"
      ],
      "execution_count": 6,
      "outputs": []
    },
    {
      "cell_type": "code",
      "metadata": {
        "id": "vJX3jP079jX8"
      },
      "source": [
        "def concatDict(infodict):\n",
        "  atoms=256\n",
        "  wholeDict=None\n",
        "  for i,spd in infodict.items():\n",
        "    \n",
        "      if(wholeDict is None):\n",
        "        wholeDict = copy.deepcopy(spd)\n",
        "      else:\n",
        "        wholeDict.concat(spd)\n",
        "  \n",
        "  return wholeDict"
      ],
      "execution_count": 7,
      "outputs": []
    },
    {
      "cell_type": "code",
      "metadata": {
        "id": "hSZdZN4gbXXo"
      },
      "source": [
        "# %%\n",
        "#function of dimensionless LJ: U(r)=4(r^{-12}-r^{-6})\n",
        "#define the function of acceleration of LJ potential with cut_off\n",
        "\n",
        "def LJ_accel(position,neighb_x_0,r_cut,L):\n",
        "    subcube_atoms=position.shape[0]\n",
        "    #careful kind of confusing\n",
        "    position=np.concatenate((position,neighb_x_0),0)\n",
        "    num=position.shape[0]\n",
        "  \n",
        "    update_accel=np.zeros((subcube_atoms,3))\n",
        "    dU_drcut=48*r_cut**(-13)-24*r_cut**(-7) #evaluate at r_cutoff\n",
        "    #for loop is only of subcube we are interested in but we have to account for ALL distance!\n",
        "    for atom in range(subcube_atoms):\n",
        "        position_other=np.concatenate((position[0:atom,:],position[atom+1:num+1,:]),axis=0)\n",
        "        \n",
        "        position_atom=position[atom]\n",
        "        separation=position_atom-position_other   \n",
        "        separation_new=pbc2(separation=separation,L=L)\n",
        "        r_relat=np.sqrt(np.sum(separation_new**2,axis=1))\n",
        "        \n",
        "        #get out the particles inside the r_cut\n",
        "        accel=np.zeros((r_relat.shape[0],3))\n",
        "        #get out the particles inside the r_limit\n",
        "        for i, r0 in enumerate(r_relat):\n",
        "            if r0 <= r_cut:\n",
        "               #active_r_relat.append(r0)\n",
        "               separation_active_num=separation_new[i,:]\n",
        "               vector_part=separation_active_num*(1/r0)\n",
        "               scalar_part=48*r0**(-13)-24*r0**(-7)-dU_drcut\n",
        "               accel_num=vector_part*scalar_part\n",
        "               accel[i,:]=accel_num\n",
        "\n",
        "        update_accel[atom,:]=np.sum(accel,axis=0)\n",
        "        \n",
        "    return update_accel.reshape(subcube_atoms,3)"
      ],
      "execution_count": 8,
      "outputs": []
    },
    {
      "cell_type": "code",
      "metadata": {
        "id": "p4FvAd--bdow"
      },
      "source": [
        "# %%\n",
        "#Function for avg KE (the system) \n",
        "@numba.njit\n",
        "def Kin_Eng(m,x_dot):\n",
        "    num=x_dot.shape[0]\n",
        "    Kinetic_per=0.5*m*np.sum(x_dot**2,axis=1)\n",
        "    Kinetic_sum=np.sum(Kinetic_per,axis=0)\n",
        "    return Kinetic_sum"
      ],
      "execution_count": 9,
      "outputs": []
    },
    {
      "cell_type": "code",
      "metadata": {
        "id": "eZJ_QyT7bflN"
      },
      "source": [
        "# %%\n",
        "#Function for avg LJ potential with cut_off\n",
        "@numba.jit(nopython=True)\n",
        "def LJ_potent_nondimen(position,r_cut=2.5,L=6.8):\n",
        "    num=position.shape[0]\n",
        "    update_LJ=np.zeros((num-1,1))\n",
        "    \n",
        "    #fix value for a certain r_limit\n",
        "    dU_drcut=24*r_cut**(-7)-48*r_cut**(-13)\n",
        "    U_rcut=4*(r_cut**(-12)-r_cut**(-6))\n",
        "    #print(numba.typeof(r_cut))\n",
        "    #L_half=np.array(L/2)\n",
        "    for ind, atom in enumerate(range(num-1)):\n",
        "        position_relevent=position[atom:,:]\n",
        "        position_other=position_relevent[1:,:]\n",
        "        \n",
        "        #pbc rule2\n",
        "        separation=position_relevent[0,:]-position_other\n",
        "        separation_new=pbc2(separation=separation,L=L)\n",
        "        \n",
        "        r_relat=np.sqrt(np.sum(separation_new**2,axis=1)).reshape(separation_new.shape[0],)\n",
        "        LJ=[]\n",
        "        #get out the particles inside the r_limit\n",
        "        for i, r0 in enumerate(r_relat):\n",
        "            if r0 <= r_cut:\n",
        "               #active_r_relat.append(r0)\n",
        "               LJ_num=4*r0**(-12)-4*r0**(-6)-U_rcut-(r0-r_cut)*dU_drcut\n",
        "               LJ.append(LJ_num)\n",
        "        #active_particle=r_relat<=r_cut_mat\n",
        "        #active_r_relat=r_relat[active_particle]\n",
        "        #active_amount=np.array(active_r_relat).shape[0]\n",
        "        #if active_amount!=0:\n",
        "            #LJ=4*active_r_relat**(-12)-4*active_r_relat**(-6)-np.array(U_rcut)-(active_r_relat-r_cut)*np.array(dU_drcut) #double counting issue here\n",
        "            update_LJ[atom,:]=np.sum(np.array(LJ),axis=0)    \n",
        "    return np.sum(update_LJ)"
      ],
      "execution_count": 10,
      "outputs": []
    },
    {
      "cell_type": "code",
      "metadata": {
        "id": "kDmef7jGbiIL"
      },
      "source": [
        "# %%\n",
        "#Function of insta Pressue\n",
        "@numba.njit\n",
        "def insta_pressure(L,T,N,position,r_cut,e_scale):\n",
        "    num=position.shape[0]\n",
        "    k_B=1.38064852*10**(-23)\n",
        "    #k_B=1 #if dimensionless\n",
        "    V=L**3\n",
        "  \n",
        "    pres_ideal=N*T*(k_B/e_scale)/V\n",
        "    dU_drcut=24*r_cut**(-7)-48*r_cut**(-13)\n",
        "    pres_virial=np.zeros((num-1,1))\n",
        "    for atom in range(num-1):\n",
        "        position_relevent=position[atom:,:]\n",
        "        position_other=position_relevent[1:,:]\n",
        "        position_atom=position_relevent[0,:]\n",
        "        \n",
        "        #pbc rule 2\n",
        "        separation=position_atom-position_other\n",
        "        separation_new=pbc2(separation=separation,L=L)\n",
        "        \n",
        "        r_relat=np.sqrt(np.sum(separation_new**2,axis=1)).reshape(separation_new.shape[0],)\n",
        "        force=[]\n",
        "        active_r_relat=[]\n",
        "        #get out the particles inside the r_limit\n",
        "        for i, r0 in enumerate(r_relat):\n",
        "            if r0 <= r_cut:\n",
        "               #active_r_relat.append(r0)\n",
        "               force_num=-(24*r0**(-7)-48*r0**(-13))+dU_drcut\n",
        "               force.append(force_num)\n",
        "               active_r_relat.append(r0)    \n",
        "               \n",
        "        # #get out the particles inside the r_cut\n",
        "        active_amount=np.array(active_r_relat).shape[0]\n",
        "        \n",
        "        rijFij=np.array(active_r_relat).reshape(1,active_amount)@np.array(force).reshape(active_amount,1)\n",
        "        pres_virial[atom,:]=rijFij\n",
        "    pres_insta=pres_ideal+np.sum(pres_virial,axis=0)/(3*V) #Double Count?\n",
        "    return pres_insta"
      ],
      "execution_count": 51,
      "outputs": []
    },
    {
      "cell_type": "code",
      "metadata": {
        "id": "UzB1vToybbi6"
      },
      "source": [
        "# %%\n",
        "#Update rule: velocity Verlet\n",
        "#@numba.njit\n",
        "def vel_Ver(infodict,dt,r_limit=2.5,L=6.8):\n",
        "    proc=len(infodict)\n",
        "    \n",
        "    for i in range(1,proc+1):\n",
        "      ## Get the data for the current spatial domain \n",
        "      my_spd, neighs_spd= separate_points(infodict, i)\n",
        "      #print(\"mine\", my_spd.P.shape)\n",
        "      #print(\"other\", neighs_spd.P.shape)\n",
        "      #x_0=my_spd.P\n",
        "      #x_dot_0=my_spd.V\n",
        "      #pbc rule 1\n",
        "      \n",
        "\n",
        "      #acceleration at 0\n",
        "      my_spd.A=LJ_accel(position=my_spd.P,neighb_x_0=neighs_spd.P,r_cut=r_limit,L=L)\n",
        "      \n",
        "       \n",
        "      \n",
        "      #velocity at dt/2\n",
        "      my_spd.V=my_spd.V+my_spd.A*(dt/2)\n",
        "      \n",
        "      #position at dt\n",
        "      my_spd.P=my_spd.P+my_spd.V*dt\n",
        "      \n",
        "      #PBC rule 1\n",
        "      my_spd.P=pbc1(position=my_spd.P,L=L)\n",
        "      infodict[i]=my_spd\n",
        "    \n",
        "    for i in range(1,proc+1):\n",
        "      my_spd, neighs_spd= separate_points(infodict, i) \n",
        "      \n",
        "      #acceleration at dt\n",
        "      my_spd.A=LJ_accel(position=my_spd.P,neighb_x_0=neighs_spd.P,r_cut=r_limit,L=L)\n",
        "      \n",
        "      #velocity at dt\n",
        "      my_spd.V=my_spd.V+my_spd.A*(dt/2)\n",
        "      infodict[i]=my_spd\n",
        "    # #collect info\n",
        "    #info=np.concatenate((x_final,x_dot_final,accel_final),axis=1)\n",
        "    return infodict #Data shape(N,9) [position_(xyz),velocity_(xyz),force(accel if dimension)_xyz]"
      ],
      "execution_count": 52,
      "outputs": []
    },
    {
      "cell_type": "code",
      "metadata": {
        "id": "GSWHFGN7bkPA"
      },
      "source": [
        "# %%\n",
        "#The LJ potential MD simulation function\n",
        "#@numba.njit\n",
        "def LJ_MD(subdiv,position_init,dt,stop_step,accel_init,r_cut,L,T_eq,e_scale,sig):\n",
        "    #useful constant\n",
        "    k_B=1.38064852*10**(-23)\n",
        "\n",
        "    size_sim=position_init.shape[0]\n",
        "    \n",
        "    #velocity initialization \n",
        "    x_dot_init=random_vel_generator(n=size_sim,T_equal=T_eq,m=1,e_scale=e_scale)\n",
        "    #print(np.sum(np.sum(x_dot_init**2,1),0))\n",
        "    #initialize the info matrix\n",
        "    info=np.zeros((stop_step+1,size_sim,9))\n",
        "    info[0,:,:]=np.concatenate((position_init,x_dot_init,accel_init),axis=1)\n",
        "    info_init=info[0,:,:]\n",
        "    #print(info_init.shape)\n",
        "\n",
        "    infotodic=celltodic((info[0,:,:]),subdiv[0],subdiv[1],subdiv[2],L)\n",
        "    \n",
        "  \n",
        "\n",
        "#initialize PE, KE, T_insta, P_insta, Momentum\n",
        "    PE=np.zeros((stop_step+1,1))\n",
        "    KE=np.zeros((stop_step+1,1))\n",
        "    T_insta=np.zeros((stop_step+1,1))\n",
        "    P_insta=np.zeros((stop_step+1,1))\n",
        "    \n",
        "    #zero step value\n",
        "    PE[0,:]=LJ_potent_nondimen(info[0,:,0:3],r_cut=r_cut,L=L)\n",
        "    \n",
        "    KE[0,:]=Kin_Eng(m=1,x_dot=info[0,:,3:6])\n",
        "    #print(KE[0,:])\n",
        "    T_insta[0,:]=2*KE[0,:]*e_scale/(3*(size_sim-1)*k_B) #k\n",
        "    P_insta[0,:]=insta_pressure(L=L,T=T_insta[0],N=size_sim,position=info[0,:,0:3],r_cut=r_cut,e_scale=e_scale)#*(e_scale/(L*sig*(10**(-10)))**3) #unitless\n",
        "    \n",
        "    step_range=tqdm(list(range(stop_step)))\n",
        "    #step_range=range(stop_step)\n",
        "\n",
        "    for step in step_range:#step_range:\n",
        "          #if step%200==0:\n",
        "            #print(step)\n",
        "          #update particles position, velocity, accelerations\n",
        "          info_temp=vel_Ver(infodict=infotodic,dt=dt,r_limit=r_cut,L=L)\n",
        "          \n",
        "          tmp=concatDict(info_temp)\n",
        "          info[step+1,:,:]=np.concatenate((tmp.P,tmp.V,tmp.A),1)\n",
        "\n",
        "\n",
        "          #UPDATE CUBES MAKE SURE ATOMS ARE IN RIGHT CUBES\n",
        "          infotodic=celltodic(info[step+1,:,:],2,2,2,L)\n",
        "\n",
        "          \n",
        "          #print(testing[1].A)\n",
        "          #calculate and store PE, KE, T_insta, P_insta\n",
        "          PE[step+1,:]=LJ_potent_nondimen(info[step+1,:,0:3],r_cut=r_cut,L=L)\n",
        "          #print(info[step+1,:,:].shape)\n",
        "          KE[step+1,:]=Kin_Eng(m=1,x_dot=info[step+1,:,3:6])\n",
        "          #print(KE[step+1,:])\n",
        "          #print(PE[step+1,:])\n",
        "          T_insta[step+1,:]=2*KE[step+1,:]*e_scale/(3*(size_sim-1)*k_B) #k\n",
        "          P_insta[step+1,:]=insta_pressure(L=L,T=T_insta[step+1],N=size_sim,position=info[step+1,:,0:3],r_cut=r_cut,e_scale=e_scale)#*(e_scale/(L*sig*(10**(-10)))**3) #unitless\n",
        "    #plt.plot(KE[380,0])\n",
        "    return info,PE,KE,T_insta,P_insta   \n",
        "    "
      ],
      "execution_count": 53,
      "outputs": []
    },
    {
      "cell_type": "code",
      "metadata": {
        "id": "KCKKdYGJ4FRw"
      },
      "source": [
        "def celltodic(positions,nx,ny,nz,L):\n",
        "  xinterval=L/nx\n",
        "  yinterval=L/ny\n",
        "  zinterval=L/nz\n",
        "  cell_lists={}\n",
        "  for i in range (1,nx*ny*nz+1): \n",
        "    cell_lists[i]= np.array([]) \n",
        "  \n",
        "  for i in range(0, positions.shape[0]):\n",
        "    atom=positions[i,0:9]\n",
        "    #check extra one!!!\n",
        "    #if statements !!!!!!!\n",
        "    #check later\n",
        "    atomID=(np.floor(atom[0]/xinterval)+1+(np.floor(atom[1]/yinterval))*ny)+(np.floor(atom[2]/zinterval))*(nx*ny)\n",
        "    #atomID=(np.floor(atom[0]/xinterval)+1+(np.floor(atom[1]/yinterval))+1)+(np.floor(atom[2]/zinterval))*(nx*ny)\n",
        "    atomID=int(atomID)\n",
        "    assert(atomID<9)\n",
        "    if atomID>9:\n",
        "      print('atomID>9')\n",
        "    assert(atomID>0)\n",
        "    if atomID<0:\n",
        "      print('atomID<0')\n",
        "    cell_lists[atomID]=np.append(cell_lists[atomID],atom)\n",
        "    #print(atomID)\n",
        "\n",
        "  for i in range(1,nx*ny*nz+1):\n",
        "    # I think this works but we should think more about what an \"empty\" shape means\n",
        "    # currently when a key points to an empty cube the cube has a position vector of dimensions [0,3]\n",
        "    if cell_lists[i].shape[0]!=0:\n",
        "      #check shape!\n",
        "      temp_reshaped=np.reshape(cell_lists[i],((cell_lists[i].shape[0])//9,9))\n",
        "      temp_position = temp_reshaped[:,0:3]\n",
        "      assert(temp_position.shape[1] == 3)\n",
        "      temp_velocity = temp_reshaped[:,3:6]\n",
        "      temp_acceleration = temp_reshaped[:,6:9]\n",
        "      #some object oriented programming\n",
        "      spatial_domain_data = SpatialDomainData(temp_position,\n",
        "                                              temp_velocity,\n",
        "                                              temp_acceleration)\n",
        "      cell_lists[i] = spatial_domain_data\n",
        "    else:\n",
        "      cell_lists[i] = SpatialDomainData(np.empty((0,3)),\n",
        "                                        np.empty((0,3)),\n",
        "                                        np.empty((0,3)))\n",
        "\n",
        "  return cell_lists\n",
        "\n",
        "\n"
      ],
      "execution_count": 54,
      "outputs": []
    },
    {
      "cell_type": "code",
      "metadata": {
        "id": "H1NeARBabmE_",
        "colab": {
          "base_uri": "https://localhost:8080/",
          "height": 330,
          "referenced_widgets": [
            "9580f732d591431e9679f592ccce223c",
            "5bd9baa9b3c3495685719e7fab2be54b",
            "8133b68db2834eada894418cfd4d3184",
            "e727ed07ed2a458faac14c024bc62b38",
            "e0c67c7ffb574570966a6c4e097202d6",
            "f7e9ff5cb4034ebe8c97e1c1f647c0d7",
            "846ec188680c42f3b0f0c05599469574",
            "4e376bb1d752495b88c4c982304ad0e7"
          ]
        },
        "outputId": "552ff1af-5972-4034-de7b-f08584fc8bc2"
      },
      "source": [
        "stop_step=int(4/0.002)\n",
        "k_B=1.38064852*10**(-23)\n",
        "dt=0.002\n",
        "file_name='liquid256.txt'\n",
        "position_init=np.loadtxt(file_name)\n",
        "a_init=np.zeros((256,3))\n",
        "r_c=2.5\n",
        "L0=6.8\n",
        "\n",
        "#cube division\n",
        "subdiv=np.array([2,2,2])\n",
        "\n",
        "energy_scale=1.66*10**(-21)#unit: J, Argon\n",
        "sigma=3.4 #unit: Ang, Argon \n",
        "T_dimensional_equal=123#np.round(np.linspace(123,145,10))#unit K\n",
        "T_equal=T_dimensional_equal*k_B/energy_scale\n",
        "L_ls=256 #np.round(np.linspace(7.21578,7.69026,10),decimals=5)\n",
        "# P_insta_m_ls=np.zeros((stop_step+1,1))\n",
        "# T_insta_m_ls=np.zeros((stop_step+1,1))\n",
        "# KE_m_ls=np.zeros((stop_step+1,1))\n",
        "# PE_m_ls=np.zeros((stop_step+1,1))\n",
        "#for ind, L0 in enumerate(L_ls):\n",
        "ind=1\n",
        "start_time=time.time()\n",
        "L0=np.float(L0)\n",
        "#print(L0)\n",
        "info_test,PE_m_ls,KE_m_ls,T_insta_m_ls,P_insta_m_ls=LJ_MD(subdiv=subdiv,\n",
        "                                                          position_init=position_init,\n",
        "                                                          dt=dt,\n",
        "                                                          stop_step=stop_step,\n",
        "                                                          accel_init=a_init,\n",
        "                                                          r_cut=r_c, \n",
        "                                                          L=L0,\n",
        "                                                          T_eq=T_equal,#[ind],\n",
        "                                                          e_scale=energy_scale,\n",
        "                                                          sig=sigma)\n",
        "#print('done')\n",
        "end_time=time.time()\n",
        "print(\"For this {} steps operation (dt={}) with r_cut = {} and L = {}, it took:\".format(stop_step,dt,r_c_ls[1],L0),end_time-start_time,'s')"
      ],
      "execution_count": 55,
      "outputs": [
        {
          "output_type": "display_data",
          "data": {
            "application/vnd.jupyter.widget-view+json": {
              "model_id": "9580f732d591431e9679f592ccce223c",
              "version_minor": 0,
              "version_major": 2
            },
            "text/plain": [
              "HBox(children=(FloatProgress(value=0.0, max=2000.0), HTML(value='')))"
            ]
          },
          "metadata": {
            "tags": []
          }
        },
        {
          "output_type": "stream",
          "text": [
            "\n",
            "For this 2000 steps operation (dt=0.002) with r_cut = 2.5 and L = 6.8, it took: 526.6895341873169 s\n"
          ],
          "name": "stdout"
        },
        {
          "output_type": "display_data",
          "data": {
            "image/png": "[encoded data removed]",
            "text/plain": [
              "<Figure size 432x288 with 1 Axes>"
            ]
          },
          "metadata": {
            "tags": [],
            "needs_background": "light"
          }
        }
      ]
    },
    {
      "cell_type": "code",
      "metadata": {
        "id": "Ho-5zIqHhexc",
        "colab": {
          "base_uri": "https://localhost:8080/",
          "height": 164
        },
        "outputId": "e9ce66e3-0c92-41e7-a125-b8eb087cce8a"
      },
      "source": [
        "print(info_test.shape)"
      ],
      "execution_count": null,
      "outputs": [
        {
          "output_type": "error",
          "ename": "NameError",
          "evalue": "ignored",
          "traceback": [
            "\u001b[0;31m---------------------------------------------------------------------------\u001b[0m",
            "\u001b[0;31mNameError\u001b[0m                                 Traceback (most recent call last)",
            "\u001b[0;32m<ipython-input-31-4dfe2ace65f4>\u001b[0m in \u001b[0;36m<module>\u001b[0;34m()\u001b[0m\n\u001b[0;32m----> 1\u001b[0;31m \u001b[0mprint\u001b[0m\u001b[0;34m(\u001b[0m\u001b[0minfo_test\u001b[0m\u001b[0;34m.\u001b[0m\u001b[0mshape\u001b[0m\u001b[0;34m)\u001b[0m\u001b[0;34m\u001b[0m\u001b[0;34m\u001b[0m\u001b[0m\n\u001b[0m",
            "\u001b[0;31mNameError\u001b[0m: name 'info_test' is not defined"
          ]
        }
      ]
    },
    {
      "cell_type": "code",
      "metadata": {
        "id": "MjIYs7Mn3O1G"
      },
      "source": [
        "##TO DO\n",
        "#actually add processors in velocity Verlet\n",
        "#plot potential energy, debug\n",
        "#figure out how to use numba for functions that have stuff that technically dont allow numba\n",
        "#parallelize KE PE\n",
        "#neighbor lists\n",
        "\n",
        "##IF WE HAVE A LOT OF TIME\n",
        "#modify algorithm not to look at diagonal regions\n"
      ],
      "execution_count": null,
      "outputs": []
    },
    {
      "cell_type": "code",
      "metadata": {
        "id": "BpL7eio197-X"
      },
      "source": [
        "def cum_avg(arr=1):\n",
        "    cum_sum = np.cumsum(arr, axis=0)    \n",
        "    for i in range(cum_sum.shape[0]):       \n",
        "        if i == 0:\n",
        "            continue        \n",
        "        cum_sum[i] =  cum_sum[i] / (i + 1)\n",
        "    return cum_sum"
      ],
      "execution_count": 47,
      "outputs": []
    },
    {
      "cell_type": "code",
      "metadata": {
        "id": "NwsrZc6WLgjH",
        "colab": {
          "base_uri": "https://localhost:8080/",
          "height": 423
        },
        "outputId": "0da34a2d-ef76-4769-dab5-0d2c5814522e"
      },
      "source": [
        "fig, ax = plt.subplots(nrows=1,ncols=3,figsize=(30,8))\n",
        "ax[0].plot(KE_m_ls,label='KE')\n",
        "ax[0].plot(PE_m_ls,label='PE')\n",
        "ax[0].plot(PE_m_ls+KE_m_ls,label='Tot')\n",
        "ax[0].set_xlabel('Step')\n",
        "ax[0].set_ylabel('Energy')\n",
        "ax[0].legend()\n",
        "ax[1].plot(P_insta_m_ls,label='raw')\n",
        "ax[1].plot(cum_avg(P_insta_m_ls),label='Cum_avg')\n",
        "ax[1].set_xlabel('Step')\n",
        "ax[1].set_ylabel('Pressure')\n",
        "ax[1].legend()\n",
        "ax[2].plot(T_insta_m_ls, label='raw')\n",
        "ax[2].plot(cum_avg(T_insta_m_ls),label='Cum_avg')\n",
        "ax[2].set_xlabel('Step')\n",
        "ax[2].set_ylabel('Temperature (K)')\n",
        "ax[2].legend()\n",
        "# plt.plot(KE_m_ls[ind,1:1800,:])\n",
        "# plt.plot(PE_m_ls[ind,1:1800,:])\n",
        "# plt.plot()\n",
        "# print(stop_step)\n",
        "   "
      ],
      "execution_count": 57,
      "outputs": [
        {
          "output_type": "execute_result",
          "data": {
            "text/plain": [
              "<matplotlib.legend.Legend at 0x7fa90f1328d0>"
            ]
          },
          "metadata": {
            "tags": []
          },
          "execution_count": 57
        },
        {
          "output_type": "display_data",
          "data": {
            "image/png": "[encoded data removed]",
            "text/plain": [
              "<Figure size 2160x576 with 3 Axes>"
            ]
          },
          "metadata": {
            "tags": [],
            "needs_background": "light"
          }
        }
      ]
    },
    {
      "cell_type": "code",
      "metadata": {
        "colab": {
          "base_uri": "https://localhost:8080/"
        },
        "id": "vYLRxJaP-6mf",
        "outputId": "cf5dda50-7c5a-49e5-f3d3-bb8ae2d99dfe"
      },
      "source": [
        "KE_m_ls[1,:,:].shape"
      ],
      "execution_count": 41,
      "outputs": [
        {
          "output_type": "execute_result",
          "data": {
            "text/plain": [
              "(2001, 1)"
            ]
          },
          "metadata": {
            "tags": []
          },
          "execution_count": 41
        }
      ]
    },
    {
      "cell_type": "code",
      "metadata": {
        "id": "5W9VejSL_ZYe"
      },
      "source": [
        ""
      ],
      "execution_count": null,
      "outputs": []
    }
  ]
}