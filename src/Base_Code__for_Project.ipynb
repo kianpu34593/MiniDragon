{
  "nbformat": 4,
  "nbformat_minor": 0,
  "metadata": {
    "colab": {
      "name": "Base_Code _for_Project.ipynb",
      "provenance": [],
      "collapsed_sections": [],
      "include_colab_link": true
    },
    "kernelspec": {
      "display_name": "Python 3",
      "language": "python",
      "name": "python3"
    },
    "language_info": {
      "codemirror_mode": {
        "name": "ipython",
        "version": 3
      },
      "file_extension": ".py",
      "mimetype": "text/x-python",
      "name": "python",
      "nbconvert_exporter": "python",
      "pygments_lexer": "ipython3",
      "version": "3.7.6"
    }
  },
  "cells": [
    {
      "cell_type": "markdown",
      "metadata": {
        "id": "view-in-github",
        "colab_type": "text"
      },
      "source": [
        "<a href=\"https://colab.research.google.com/github/kianpu34593/NotSoFastMD/blob/main/src/Base_Code__for_Project.ipynb\" target=\"_parent\"><img src=\"https://colab.research.google.com/assets/colab-badge.svg\" alt=\"Open In Colab\"/></a>"
      ]
    },
    {
      "cell_type": "code",
      "metadata": {
        "id": "AUesfFSgxfR4",
        "colab": {
          "resources": {
            "http://localhost:8080/nbextensions/google.colab/files.js": {
              "data": "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",
              "ok": true,
              "headers": [
                [
                  "content-type",
                  "application/javascript"
                ]
              ],
              "status": 200,
              "status_text": ""
            }
          },
          "base_uri": "https://localhost:8080/",
          "height": 73
        },
        "outputId": "5a156c10-9c36-481f-d06d-bc29a2e14ca9"
      },
      "source": [
        "import numpy as np\n",
        "import matplotlib.pyplot as plt\n",
        "from random import sample\n",
        "import numba\n",
        "import time\n",
        "from tqdm.notebook import tqdm\n",
        "plt.rcParams['figure.figsize'] = [8.0, 6.0]\n",
        "#if using google colab\n",
        "from google.colab import files\n",
        "uploaded = files.upload()"
      ],
      "execution_count": null,
      "outputs": [
        {
          "output_type": "display_data",
          "data": {
            "text/html": [
              "\n",
              "     <input type=\"file\" id=\"files-9c3a038d-6eb8-4fa9-ae91-4af9d215a262\" name=\"files[]\" multiple disabled\n",
              "        style=\"border:none\" />\n",
              "     <output id=\"result-9c3a038d-6eb8-4fa9-ae91-4af9d215a262\">\n",
              "      Upload widget is only available when the cell has been executed in the\n",
              "      current browser session. Please rerun this cell to enable.\n",
              "      </output>\n",
              "      <script src=\"/nbextensions/google.colab/files.js\"></script> "
            ],
            "text/plain": [
              "<IPython.core.display.HTML object>"
            ]
          },
          "metadata": {
            "tags": []
          }
        },
        {
          "output_type": "stream",
          "text": [
            "Saving liquid256.txt to liquid256.txt\n"
          ],
          "name": "stdout"
        }
      ]
    },
    {
      "cell_type": "code",
      "metadata": {
        "id": "8VzXsMQu_G9c",
        "colab": {
          "base_uri": "https://localhost:8080/",
          "height": 34
        },
        "outputId": "85839baf-6c01-41f5-cf72-9acdf46d8d25"
      },
      "source": [
        "from google.colab import drive\n",
        "drive.mount('/content/drive')"
      ],
      "execution_count": null,
      "outputs": [
        {
          "output_type": "stream",
          "text": [
            "Mounted at /content/drive\n"
          ],
          "name": "stdout"
        }
      ]
    },
    {
      "cell_type": "code",
      "metadata": {
        "id": "_Imy4AnBxlRt"
      },
      "source": [
        "# %%\n",
        "#Randomlly Initialize the Velocities\n",
        "@numba.njit\n",
        "def random_vel_generator(n=256,T_equal=100,m=1,e_scale=1): # n=number of particles\n",
        "    total_k=3*T_equal*(n-1)/2 #dimensionless\n",
        "    vel_per_particle=np.zeros((n,3))\n",
        "    for axis in range(3):\n",
        "        vel_per_particle[:,axis]=np.random.randn(256,)-0.5\n",
        "    Mom_x_total=np.sum(vel_per_particle[:,0])\n",
        "    Mom_y_total=np.sum(vel_per_particle[:,1])\n",
        "    Mom_z_total=np.sum(vel_per_particle[:,2])\n",
        "    Mom_x_avg=Mom_x_total/n\n",
        "    Mom_y_avg=Mom_y_total/n\n",
        "    Mom_z_avg=Mom_z_total/n\n",
        "    vel_per_particle=vel_per_particle-np.array([Mom_x_avg,Mom_y_avg,Mom_z_avg]).reshape(1,3)\n",
        "    k_avg_init=0.5*(1/n)*np.sum(np.sum(vel_per_particle**2,axis=1),axis=0)\n",
        "    k_avg_T_eq=total_k/n\n",
        "    scaling_ratio=np.sqrt(k_avg_T_eq/k_avg_init)\n",
        "    vel_per_particle=vel_per_particle*scaling_ratio\n",
        "    return vel_per_particle\n"
      ],
      "execution_count": null,
      "outputs": []
    },
    {
      "cell_type": "code",
      "metadata": {
        "id": "vYRNQ0Ad5ak_"
      },
      "source": [
        "#function of pbc rule2\n",
        "@numba.njit\n",
        "def pbc2(separation=0,L=6.8):\n",
        "    separation_new=np.zeros((separation.shape[0],3))   \n",
        "    for i in range(separation.shape[0]):\n",
        "        separation_ind=separation[i,:]\n",
        "        separation_empty=np.zeros((1,3))\n",
        "        for j in range(3):\n",
        "            separation_axis=numba.float64(separation_ind[j])\n",
        "            \n",
        "            if separation_axis < -L/2:\n",
        "                separation_axis_new=separation_axis+L\n",
        "            elif separation_axis > L/2:\n",
        "                separation_axis_new=separation_axis-L\n",
        "            else:\n",
        "                separation_axis_new=separation_axis\n",
        "            separation_empty[:,j]=separation_axis_new\n",
        "        separation_new[i,:]=separation_empty\n",
        "    return separation_new"
      ],
      "execution_count": null,
      "outputs": []
    },
    {
      "cell_type": "code",
      "metadata": {
        "id": "RU00fUViEaiL"
      },
      "source": [
        "#function of pbc rule1\n",
        "@numba.njit\n",
        "def pbc1(position=0,L=6.8,counter=None):\n",
        "    x_new=np.empty((position.shape[0],3))   \n",
        "    for i in range(position.shape[0]):\n",
        "        position_ind=position[i,:]\n",
        "        position_empty=np.empty((1,3))\n",
        "        for j in range(3):\n",
        "            position_axis=numba.float64(position_ind[j])\n",
        "            if position_axis < 0:\n",
        "                position_axis_new=position_axis+L\n",
        "                if counter!=None:\n",
        "                    counter[i,j]+=-1\n",
        "            elif position_axis > L:\n",
        "                position_axis_new=position_axis-L\n",
        "                if counter!=None:\n",
        "                    counter[i,j]+=1\n",
        "            else:\n",
        "                position_axis_new=position_axis\n",
        "            position_empty[:,j]=position_axis_new\n",
        "        x_new[i,:]=position_empty\n",
        "    return x_new, counter"
      ],
      "execution_count": null,
      "outputs": []
    },
    {
      "cell_type": "code",
      "metadata": {
        "id": "kd1j1ISpxwbl"
      },
      "source": [
        "# %%\n",
        "#function of dimensionless LJ: U(r)=4(r^{-12}-r^{-6})\n",
        "#define the function of acceleration of LJ potential with cut_off\n",
        "@numba.njit\n",
        "def LJ_accel(position=1,r_cut=2.5,L=6.8):\n",
        "    num=position.shape[0]\n",
        "    update_accel=np.zeros((num,3))\n",
        "    dU_drcut=48*r_cut**(-13)-24*r_cut**(-7) #evaluate at r_cutoff\n",
        "    for atom in range(num):\n",
        "        position_other=np.concatenate((position[0:atom,:],position[atom+1:,:]),axis=0)\n",
        "        position_atom=position[atom]\n",
        "        separation=position_atom-position_other   \n",
        "        separation_new=pbc2(separation=separation,L=L)\n",
        "        r_relat=np.sqrt(np.sum(separation_new**2,axis=1))\n",
        "        accel=np.zeros((r_relat.shape[0],3))\n",
        "        #get out the particles inside the r_limit\n",
        "        for i, r0 in enumerate(r_relat):\n",
        "            if r0 <= r_cut:\n",
        "               separation_active_num=separation_new[i,:]\n",
        "               vector_part=separation_active_num*(1/r0)\n",
        "               scalar_part=48*r0**(-13)-24*r0**(-7)-dU_drcut\n",
        "               accel_num=vector_part*scalar_part\n",
        "               accel[i,:]=accel_num\n",
        "        update_accel[atom,:]=np.sum(accel,axis=0)\n",
        "        \n",
        "    return update_accel.reshape(num,3)"
      ],
      "execution_count": null,
      "outputs": []
    },
    {
      "cell_type": "code",
      "metadata": {
        "id": "ZUlpaUfXxzZQ"
      },
      "source": [
        "# %%\n",
        "#Update rule: velocity Verlet\n",
        "@numba.njit\n",
        "def vel_Ver(dt=0,x_0=0,x_dot_0=0,r_limit=2.5,L=6.8, counter=np.zeros((1,3))):\n",
        "    #pbc rule 1\n",
        "    x_0,counter=pbc1(position=x_0,L=L,counter=counter)\n",
        "    \n",
        "    #acceleration at 0\n",
        "    accel_0=LJ_accel(position=x_0,r_cut=r_limit,L=L)\n",
        "    \n",
        "    #velocity at dt/2\n",
        "    x_dot_interm=x_dot_0+accel_0*(dt/2)\n",
        "    \n",
        "    #position at dt\n",
        "    x_final=x_0+x_dot_interm*dt\n",
        "    \n",
        "    #PBC rule 1\n",
        "    x_final,counter=pbc1(position=x_final,L=L,counter=counter)\n",
        "        \n",
        "    #acceleration at dt\n",
        "    accel_final=LJ_accel(position=x_final,r_cut=r_limit,L=L)\n",
        "    \n",
        "    #velocity at dt\n",
        "    x_dot_final=x_dot_interm+accel_final*(dt/2)\n",
        "    \n",
        "    #collect info\n",
        "    info=np.concatenate((x_final,x_dot_final,accel_final),axis=1)\n",
        "    return info,counter #Data shape(N,9) [position_(xyz),velocity_(xyz),force(accel if dimension)_xyz]"
      ],
      "execution_count": null,
      "outputs": []
    },
    {
      "cell_type": "code",
      "metadata": {
        "id": "d5PJ64LMrJgO"
      },
      "source": [
        "# %%\n",
        "#Update rule: velocity Verlet with Thermo Stats\n",
        "#@numba.njit\n",
        "def vel_Ver_ts(dt=0,x_0=0,x_dot_0=0,r_limit=2.5,L=6.8,t_damp=0.05,tau_0=0,T_insta=120, T_des=100):\n",
        "    #pbc rule 1\n",
        "    x_0,counter=pbc1(position=x_0,L=L)\n",
        "    \n",
        "    #acceleration at 0\n",
        "    accel_0=LJ_accel(position=x_0,r_cut=r_limit,L=L)\n",
        "\n",
        "    #velocity at dt/2\n",
        "    x_dot_interm=x_dot_0+(accel_0-tau_0*x_dot_0)*(dt/2)\n",
        "    \n",
        "    #position at dt\n",
        "    x_final=x_0+x_dot_interm*dt\n",
        "    \n",
        "    #update tau\n",
        "    tau_final = tau_0 + (1/t_damp**2)*(T_insta/T_des - 1)*dt\n",
        "    \n",
        "    #PBC rule 1\n",
        "    x_final,counter=pbc1(position=x_final,L=L)\n",
        "        \n",
        "    #acceleration at dt\n",
        "    accel_final=LJ_accel(position=x_final,r_cut=r_limit,L=L)\n",
        "    \n",
        "    #velocity at dt\n",
        "    x_dot_final=(x_dot_interm+accel_final*(dt/2))/(1+tau_final*(dt/2))\n",
        "    \n",
        "    #collect info\n",
        "    info=np.concatenate((x_final,x_dot_final,accel_final),axis=1)\n",
        "    return tau_final, info #Data shape(N,9) [position_(xyz),velocity_(xyz),force(accel if dimension)_xyz]"
      ],
      "execution_count": null,
      "outputs": []
    },
    {
      "cell_type": "code",
      "metadata": {
        "id": "gHxm-UzdyP50"
      },
      "source": [
        "# %%\n",
        "#Function for avg KE (the system) \n",
        "@numba.njit\n",
        "def Kin_Eng(m=1,x_dot=1):\n",
        "    num=x_dot.shape[0]\n",
        "    Kinetic_per=0.5*m*np.sum(x_dot**2,axis=1)\n",
        "    Kinetic_sum=np.sum(Kinetic_per,axis=0)\n",
        "    return Kinetic_sum"
      ],
      "execution_count": null,
      "outputs": []
    },
    {
      "cell_type": "code",
      "metadata": {
        "id": "Pu4PLUHSySrM"
      },
      "source": [
        "# %%\n",
        "#Function for avg LJ potential with cut_off\n",
        "@numba.njit\n",
        "def LJ_potent_nondimen(position=1,r_cut=2.5,L=6.8):\n",
        "    num=position.shape[0]\n",
        "    update_LJ=np.zeros((num-1,1))\n",
        "    \n",
        "    #fix value for a certain r_limit\n",
        "    dU_drcut=24*r_cut**(-7)-48*r_cut**(-13)\n",
        "    U_rcut=4*(r_cut**(-12)-r_cut**(-6))\n",
        "    for ind, atom in enumerate(range(num-1)):\n",
        "        position_relevent=position[atom:,:]\n",
        "        position_other=position_relevent[1:,:]\n",
        "        \n",
        "        #pbc rule2\n",
        "        separation=position_relevent[0,:]-position_other\n",
        "        separation_new=pbc2(separation=separation,L=L)\n",
        "        \n",
        "        r_relat=np.sqrt(np.sum(separation_new**2,axis=1)).reshape(separation_new.shape[0],)\n",
        "        LJ=[]\n",
        "        #get out the particles inside the r_limit\n",
        "        for i, r0 in enumerate(r_relat):\n",
        "            if r0 <= r_cut:\n",
        "               LJ_num=4*r0**(-12)-4*r0**(-6)-U_rcut-(r0-r_cut)*dU_drcut\n",
        "               LJ.append(LJ_num)\n",
        "            update_LJ[atom,:]=np.sum(np.array(LJ),axis=0)    \n",
        "    return np.sum(update_LJ)"
      ],
      "execution_count": null,
      "outputs": []
    },
    {
      "cell_type": "code",
      "metadata": {
        "id": "S8VzQHoYyXdS"
      },
      "source": [
        "# %%\n",
        "#Function of insta Pressue\n",
        "@numba.njit\n",
        "def insta_pressure(L=6.8,T=10,N=256,position=1,r_cut=2.5,e_scale=1):\n",
        "    num=position.shape[0]\n",
        "    k_B=1.38064852*10**(-23)\n",
        "    energy_scale = (k_B*T/e_scale)\n",
        "    V=L**3\n",
        "    pres_ideal=N*(1/V)*energy_scale\n",
        "    dU_drcut=24*r_cut**(-7)-48*r_cut**(-13)\n",
        "    pres_virial=np.zeros((num-1,1))\n",
        "    for atom in range(num-1):\n",
        "        position_relevent=position[atom:,:]\n",
        "        position_other=position_relevent[1:,:]\n",
        "        position_atom=position_relevent[0,:]\n",
        "        \n",
        "        #pbc rule 2\n",
        "        separation=position_atom-position_other\n",
        "        separation_new=pbc2(separation=separation,L=L)\n",
        "        \n",
        "        r_relat=np.sqrt(np.sum(separation_new**2,axis=1)).reshape(separation_new.shape[0],)\n",
        "        force=[]\n",
        "        active_r_relat=[]\n",
        "        #get out the particles inside the r_limit\n",
        "        for i, r0 in enumerate(r_relat):\n",
        "            if r0 <= r_cut:\n",
        "               #active_r_relat.append(r0)\n",
        "               force_num=-(24*r0**(-7)-48*r0**(-13))+dU_drcut\n",
        "               force.append(force_num)\n",
        "               active_r_relat.append(r0)     \n",
        "        ##get out the particles inside the r_cut\n",
        "        active_amount=np.array(active_r_relat).shape[0]\n",
        "        rijFij=np.array(active_r_relat).reshape(1,active_amount)@np.array(force).reshape(active_amount,1)\n",
        "        pres_virial[atom,:]=rijFij\n",
        "    pres_insta=pres_ideal+np.sum(pres_virial,axis=0)/(3*V) #Double Count?\n",
        "    return pres_insta"
      ],
      "execution_count": null,
      "outputs": []
    },
    {
      "cell_type": "code",
      "metadata": {
        "id": "E1I7OxjLyaob"
      },
      "source": [
        "# %%\n",
        "#The LJ potential MD simulation function\n",
        "#@numba.njit\n",
        "def LJ_MD(position_init=0,dt=0.002,stop_step=1000,accel_init=0,r_cut=2.5,L=6.8,T_eq=100,e_scale=1,sig=1,tau=0, t_damp=0.05,thermal_stat=True,prior_Vel=None,prior_accel=None):\n",
        "    k_B=1.38064852*10**(-23)\n",
        "    #NVT or NVE\n",
        "    if thermal_stat==True:\n",
        "        #import position\n",
        "        #position_init=np.loadtxt(file_name)\n",
        "        size_sim=position_init.shape[0]\n",
        "    \n",
        "        #velocity initialization \n",
        "        x_dot_init=random_vel_generator(n=size_sim,T_equal=T_eq,m=1,e_scale=e_scale)       \n",
        "        accel_init=np.zeros((size_sim,3))\n",
        "        \n",
        "        #initialize the info matrix\n",
        "        info=np.empty((stop_step+1,size_sim,9))\n",
        "        info[0,:,:]=np.concatenate((position_init,x_dot_init,accel_init),axis=1)\n",
        "\n",
        "        #initialize PE, KE, T_insta, P_insta, Momentum\n",
        "        PE=np.empty((stop_step+1,1))\n",
        "        KE=np.empty((stop_step+1,1))\n",
        "        T_insta=np.empty((stop_step+1,1))\n",
        "        P_insta=np.empty((stop_step+1,1))\n",
        "\n",
        "        for step in tqdm(range(stop_step)):\n",
        "            #update and store PE,KE,T_insta,P_insta from 0 to step-1\n",
        "            PE[step,:]=LJ_potent_nondimen(info[step,:,0:3],r_cut=r_cut,L=L) #dimensionless\n",
        "            KE[step,:]=Kin_Eng(m=1,x_dot=info[step,:,3:6]) #dimensionless\n",
        "            T_insta[step,:]=2*KE[step,:]*e_scale/(3*(size_sim-1)*k_B) #k\n",
        "            P_insta[step,:]=insta_pressure(L=L,T=T_insta[step,:],N=size_sim,position=info[step,:,0:3],r_cut=r_cut,e_scale=e_scale)*(e_scale/(L*sig*(10**(-10)))**3) #Pa\n",
        "            T_insta_feed=T_insta[step,:]*(k_B/e_scale)\n",
        "\n",
        "            #update position, velocity and acceleratio with thermal stats\n",
        "            tau, info_temp=vel_Ver_ts(dt=dt, x_0=info[step,:,0:3], x_dot_0=info[step,:,3:6], r_limit=r_cut, L=L, t_damp=t_damp, tau_0=tau,T_insta=T_insta_feed, T_des=T_eq)\n",
        "            info[step+1,:,:]=info_temp.reshape(1,size_sim,9)\n",
        "        PE[-1,:]=LJ_potent_nondimen(info[-1,:,0:3],r_cut=r_cut,L=L) #dimensionless\n",
        "        KE[-1,:]=Kin_Eng(m=1,x_dot=info[-1,:,3:6]) #dimensionless\n",
        "        T_insta[-1,:]=2*KE[-1,:]*e_scale/(3*(size_sim-1)*k_B) #k\n",
        "        P_insta[-1,:]=insta_pressure(L=L,T=T_insta[-1,:],N=size_sim,position=info[-1,:,0:3],r_cut=r_cut,e_scale=e_scale)*(e_scale/(L*sig*(10**(-10)))**3) #Pa\n",
        "        msd_mat=None\n",
        "    elif thermal_stat==False:\n",
        "        #import position\n",
        "        #position_init=np.loadtxt(file_name)\n",
        "        size_sim=position_init.shape[0]\n",
        "    \n",
        "        #velocity and acceleration initialization \n",
        "        x_dot_init=prior_Vel.reshape(size_sim,3)       \n",
        "        accel_init=prior_accel.reshape(size_sim,3)\n",
        "\n",
        "        #initialize the info matrix and mean_sqaure_error mat\n",
        "        info=np.empty((stop_step+1,size_sim,9))\n",
        "        info[0,:,:]=np.concatenate((position_init,x_dot_init,accel_init),axis=1)\n",
        "        msd_mat=np.empty((stop_step+1,1))\n",
        "        msd_counter=np.zeros((size_sim,3))\n",
        "        cell=np.ones((size_sim,3))*L\n",
        "\n",
        "        #save the origin\n",
        "        origin=info[0,:,0:3]\n",
        "\n",
        "        #initialize PE, KE, T_insta, P_insta, Momentum\n",
        "        PE=np.empty((stop_step+1,1))\n",
        "        KE=np.empty((stop_step+1,1))\n",
        "        T_insta=np.empty((stop_step+1,1))\n",
        "        P_insta=np.empty((stop_step+1,1))\n",
        "\n",
        "        for step in tqdm(range(stop_step)):\n",
        "            #update and store PE,KE,T_insta,P_insta from 0 to step-1\n",
        "            PE[step,:]=LJ_potent_nondimen(info[step,:,0:3],r_cut=r_cut,L=L) #dimensionless\n",
        "            KE[step,:]=Kin_Eng(m=1,x_dot=info[step,:,3:6]) #dimensionless\n",
        "            T_insta[step,:]=2*KE[step,:]*e_scale/(3*(size_sim-1)*k_B) #k\n",
        "            P_insta[step,:]=insta_pressure(L=L,T=T_insta[step,:],N=size_sim,position=info[step,:,0:3],r_cut=r_cut,e_scale=e_scale)*(e_scale/(L*sig*(10**(-10)))**3) #Pa\n",
        "\n",
        "            #update Mean-sqaure-displacement\n",
        "            disp=info[step,:,0:3]+np.multiply(msd_counter,cell)\n",
        "            msd_mat[step,:]=np.mean(np.sum((disp-origin)**2,axis=1))\n",
        "\n",
        "            #update position, velocity and acceleratio with thermal stats\n",
        "            info_temp,msd_counter=vel_Ver(dt=dt, x_0=info[step,:,0:3], x_dot_0=info[step,:,3:6], r_limit=r_cut, L=L, counter=msd_counter)\n",
        "            info[step+1,:,:]=info_temp.reshape(1,size_sim,9)\n",
        "\n",
        "        PE[-1,:]=LJ_potent_nondimen(info[-1,:,0:3],r_cut=r_cut,L=L) #dimensionless\n",
        "        KE[-1,:]=Kin_Eng(m=1,x_dot=info[-1,:,3:6]) #dimensionless\n",
        "        T_insta[-1,:]=2*KE[-1,:]*e_scale/(3*(size_sim-1)*k_B) #k\n",
        "        P_insta[-1,:]=insta_pressure(L=L,T=T_insta[-1,:],N=size_sim,position=info[-1,:,0:3],r_cut=r_cut,e_scale=e_scale)*(e_scale/(L*sig*(10**(-10)))**3) #Pa\n",
        "        disp=info[-1,:,0:3]+np.multiply(msd_counter,cell)\n",
        "        msd_mat[-1,:]=np.mean(np.sum((disp-origin)**2,axis=1))\n",
        "    return info,PE,KE,T_insta,P_insta,msd_mat"
      ],
      "execution_count": null,
      "outputs": []
    },
    {
      "cell_type": "code",
      "metadata": {
        "id": "Svsmqn7GRl_4"
      },
      "source": [
        "#hyper parameter\n",
        "T_dimensional_equal_ls=np.linspace(210,290,5)\n",
        "thermal_stat_ls=[True,False]\n",
        "dt=0.002\n",
        "stop_step=int(60/dt)\n",
        "k_B=1.38064852*10**(-23)\n",
        "r_c=2.5\n",
        "L0=6.8\n",
        "energy_scale=1.66*10**(-21)#unit: J, Argon\n",
        "sigma=3.4 #unit: Ang, Argon \n",
        "file_name_on='liquid256.txt' #if thermal stat is on\n",
        "tau=0\n",
        "t_damp=0.05\n",
        "for T_dimensional_equal in T_dimensional_equal_ls:\n",
        "    file_name_off='/content/drive/My Drive/PS4_EC/NVT_pos_vel_acc_last_T={}K.txt'.format(T_dimensional_equal) #if thermal stat is off\n",
        "    for thermal_stat in thermal_stat_ls:\n",
        "        start_time=time.time()\n",
        "        if thermal_stat==True:\n",
        "          position_init=np.loadtxt(file_name_on)\n",
        "          a_init=np.zeros((256,3))\n",
        "          T_equal=T_dimensional_equal*k_B/energy_scale\n",
        "          info,PE,KE,T_insta,P_insta,msd_mat=LJ_MD(position_init=position_init,\n",
        "                                            dt=dt,\n",
        "                                            stop_step=stop_step,\n",
        "                                            r_cut=r_c,\n",
        "                                            L=L0,\n",
        "                                            T_eq=T_equal,\n",
        "                                            e_scale=energy_scale,\n",
        "                                            sig=sigma,\n",
        "                                            tau=tau,\n",
        "                                            t_damp=t_damp,\n",
        "                                            thermal_stat=thermal_stat,\n",
        "                                            prior_Vel=None,\n",
        "                                            prior_accel=None)\n",
        "          saving_NVT(info,T_dimensional_equal,T_insta,P_insta)\n",
        "        elif thermal_stat==False:\n",
        "            general=np.loadtxt(file_name_off,skiprows=1)\n",
        "            position_init = general[:,0:3]\n",
        "            vel_init = general[:,3:6]\n",
        "            accel_init = general[:,6:]\n",
        "            info_temp,PE_temp,KE_temp,T_insta_temp,P_insta_temp,msd_mat=LJ_MD(position_init=position_init,\n",
        "                                                                              dt=dt,\n",
        "                                                                              stop_step=stop_step,\n",
        "                                                                              r_cut=r_c,\n",
        "                                                                              L=L0,\n",
        "                                                                              T_eq=None,\n",
        "                                                                              e_scale=energy_scale,\n",
        "                                                                              sig=sigma,\n",
        "                                                                              tau=None,\n",
        "                                                                              t_damp=None,\n",
        "                                                                              thermal_stat=thermal_stat,\n",
        "                                                                              prior_Vel=vel_init,\n",
        "                                                                              prior_accel=accel_init)\n",
        "            saving_NVE(T_insta_temp,P_insta_temp,KE_temp,PE_temp,info_temp)     \n",
        "        end_time=time.time()\n",
        "        print(\"T={}, with thermal_stat={}, it took:\".format(T_dimensional_equal,thermal_stat),np.round(end_time-start_time,decimals=1),'s')"
      ],
      "execution_count": null,
      "outputs": []
    }
  ]
}