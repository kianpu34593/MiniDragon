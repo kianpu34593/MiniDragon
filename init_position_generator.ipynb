{
  "nbformat": 4,
  "nbformat_minor": 0,
  "metadata": {
    "colab": {
      "name": "init_position_generator.ipynb",
      "provenance": [],
      "machine_shape": "hm",
      "authorship_tag": "ABX9TyMpnMl6Tp52wTOQ65/rz664",
      "include_colab_link": true
    },
    "kernelspec": {
      "name": "python3",
      "display_name": "Python 3"
    },
    "accelerator": "GPU"
  },
  "cells": [
    {
      "cell_type": "markdown",
      "metadata": {
        "id": "view-in-github",
        "colab_type": "text"
      },
      "source": [
        "<a href=\"https://colab.research.google.com/github/kianpu34593/NotSoFastMD/blob/main/init_position_generator.ipynb\" target=\"_parent\"><img src=\"https://colab.research.google.com/assets/colab-badge.svg\" alt=\"Open In Colab\"/></a>"
      ]
    },
    {
      "cell_type": "code",
      "metadata": {
        "id": "hK3e8KN6qSC5"
      },
      "source": [
        "#%%writefile position_gen.py\n",
        "import numpy as np\n",
        "import os\n",
        "def fcc_init_position_generator(L, a=5.26, sigma=3.4, name=''):\n",
        "    ###\n",
        "    #This function generate fcc structure initial position:\n",
        "    #Inputs: L--Simulation cell Size (unitless)\n",
        "    #        a--lattice constant for this particle (Angstrom)\n",
        "    #        sigma--LJ sigma for the particle\n",
        "    #Ouputs: position_init--a matrix of size (num_atoms*3)\n",
        "    #        updated_L--the closest L value for fcc packing \n",
        "    #        num_atoms--number of atoms\n",
        "    ###\n",
        "    ## build a large structure\n",
        "\n",
        "    #generate a cubic cell\n",
        "    a_unitless = a/sigma\n",
        "    n=L/a_unitless\n",
        "    n_floor = np.floor(n) #how many fcc we need on each side \n",
        "    n_ceil = np.ceil(n)\n",
        "    if n-n_floor > n_ceil-n:\n",
        "      n=int(n_ceil)\n",
        "    else:\n",
        "      n=int(n_floor)\n",
        "    updated_L=n*a_unitless\n",
        "    nBasis = 4 \n",
        "    num_atoms = n**3*nBasis;\n",
        "\n",
        "    frac = np.zeros((nBasis,3));\n",
        "    frac[0,:] = np.array([0, 0, 0]);\n",
        "    frac[1,:] = np.array([0, 0.5, 0.5]);\n",
        "    frac[2,:] = np.array([0.5, 0, 0.5]);\n",
        "    frac[3,:] = np.array([0.5, 0.5, 0]);\n",
        "\n",
        "    position_init = np.zeros((int(num_atoms),3));\n",
        "    index = 0;    \n",
        "    for i in range(n):\n",
        "        for j in range(n):\n",
        "            for k in range(n):\n",
        "                for m in frac:\n",
        "                    position_init[index,:] = np.array([i,j,k])*a_unitless+m*a_unitless\n",
        "                    index += 1\n",
        "    #data saving \n",
        "    try:\n",
        "      os.mkdir('data')\n",
        "      path_to_file_info=\"data/\"+\"info_\"+name+\".txt\"\n",
        "      path_to_file_txt = \"data/\"+\"initial_position_\"+name+\".txt\"\n",
        "      path_to_file_xyz = \"data/\"+\"initial_position_\"+name+\".xyz\"\n",
        "      comment = 'This is the position of the system during the last 1000 steps'\n",
        "      f= open(path_to_file_txt,\"w\")\n",
        "      g= open(path_to_file_xyz,\"w\")\n",
        "      h= open(path_to_file_info,'w')\n",
        "      h.write(\"updated_L: \"+str(updated_L)+\"\\n\")\n",
        "      h.write(\"number_of_atoms: \"+str(num_atoms)+\"\\n\")\n",
        "      h.write(\"Position_file_name: \"+str(name))\n",
        "      g.write(\"%s\\n\" % str(num_atoms))\n",
        "      g.write(\"%s\\n\" % comment)\n",
        "      for i in range(num_atoms):\n",
        "          for pos in position_init[i,:]:\n",
        "              f.write(str(pos)+'\\t')\n",
        "          g.write(\"LJ \")\n",
        "          g.write(\"%s\\n\" % str(position_init[i,:])[1:-2])\n",
        "          f.write('\\n')\n",
        "      h.close()\n",
        "      f.close()\n",
        "      g.close()\n",
        "    except:\n",
        "      path_to_file_info=\"data/\"+\"info_\"+name+\".txt\"\n",
        "      path_to_file_txt = \"data/\"+\"initial_position_\"+name+\".txt\"\n",
        "      path_to_file_xyz = \"data/\"+\"initial_position_\"+name+\".xyz\"\n",
        "      comment = 'This is the position of the system during the last 1000 steps'\n",
        "      f= open(path_to_file_txt,\"w\")\n",
        "      g= open(path_to_file_xyz,\"w\")\n",
        "      h= open(path_to_file_info,'w')\n",
        "      h.write(\"updated_L: \"+str(updated_L)+\"\\n\")\n",
        "      h.write(\"number_of_atoms: \"+str(num_atoms)+\"\\n\")\n",
        "      h.write(\"Position_file_name: \"+str(name))\n",
        "      g.write(\"%s\\n\" % str(num_atoms))\n",
        "      g.write(\"%s\\n\" % comment)\n",
        "      for i in range(num_atoms):\n",
        "          for pos in position_init[i,:]:\n",
        "              f.write(str(pos)+'\\t')\n",
        "          g.write(\"LJ \")\n",
        "          g.write(\"%s\\n\" % str(position_init[i,:])[1:-2])\n",
        "          f.write('\\n')\n",
        "      h.close()\n",
        "      f.close()\n",
        "      g.close()\n",
        "    return position_init, updated_L, num_atoms"
      ],
      "execution_count": null,
      "outputs": []
    },
    {
      "cell_type": "code",
      "metadata": {
        "id": "bYqdOugk2lCG"
      },
      "source": [
        "position_init, updated_L, num_atoms=fcc_init_position_generator(L=8, a=5.26, sigma=3.4, name='LJ_argon8^3')"
      ],
      "execution_count": null,
      "outputs": []
    }
  ]
}